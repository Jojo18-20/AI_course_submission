{
  "nbformat": 4,
  "nbformat_minor": 0,
  "metadata": {
    "colab": {
      "provenance": [],
      "authorship_tag": "ABX9TyNEHDsYGiLLKlT2KTLUqm7J",
      "include_colab_link": true
    },
    "kernelspec": {
      "name": "python3",
      "display_name": "Python 3"
    },
    "language_info": {
      "name": "python"
    }
  },
  "cells": [
    {
      "cell_type": "markdown",
      "metadata": {
        "id": "view-in-github",
        "colab_type": "text"
      },
      "source": [
        "<a href=\"https://colab.research.google.com/github/Jojo18-20/AI_course_submission/blob/main/modul5_assigment3_submission.ipynb\" target=\"_parent\"><img src=\"https://colab.research.google.com/assets/colab-badge.svg\" alt=\"Open In Colab\"/></a>"
      ]
    },
    {
      "cell_type": "markdown",
      "source": [
        "Johanna Schaefer -Module 5- Assigment 3"
      ],
      "metadata": {
        "id": "dmmbhZARjHz2"
      }
    },
    {
      "cell_type": "code",
      "source": [
        "import pandas as pd\n",
        "import numpy as np\n",
        "from sklearn.cluster import KMeans, AgglomerativeClustering, DBSCAN\n",
        "from sklearn.mixture import GaussianMixture\n",
        "from sklearn.metrics import calinski_harabasz_score, silhouette_score, davies_bouldin_score\n",
        "from sklearn.model_selection import train_test_split\n",
        "from sklearn.metrics import mean_squared_error, mean_absolute_error\n",
        "import math\n",
        "from sklearn.neighbors import NearestNeighbors\n",
        "import sklearn.metrics.pairwise as dis_lib\n"
      ],
      "metadata": {
        "id": "YzD0zO1ePGX5"
      },
      "execution_count": 1,
      "outputs": []
    },
    {
      "cell_type": "code",
      "execution_count": 2,
      "metadata": {
        "id": "uZb6d9ibjE_2"
      },
      "outputs": [],
      "source": [
        "data_df = pd.read_csv(\"dataset_exercise_5_clustering_highway_traffic.csv\",sep=\";\")"
      ]
    },
    {
      "cell_type": "code",
      "source": [
        "# Sort the DataFrame 'data_df' by columns \"Date\" and \"Interval_5\"\n",
        "data_df.sort_values([\"Date\", \"Interval_5\"])\n",
        "\n",
        "# Extract unique dates from the sorted DataFrame\n",
        "days = np.unique(data_df[['Date']].values.ravel())\n",
        "# Calculate the total number of unique days\n",
        "ndays = len(days)\n",
        "\n",
        "# Group the DataFrame 'data_df' by the \"Date\" column\n",
        "day_subsets_df = data_df.groupby([\"Date\"])\n",
        "\n",
        "# Define the total number of 5-minute intervals in a day\n",
        "nintvals = 288\n",
        "\n",
        "# Create a matrix 'vectorized_day_dataset' filled with NaN values\n",
        "vectorized_day_dataset = np.zeros((ndays, nintvals))\n",
        "vectorized_day_dataset.fill(np.nan)\n",
        "\n",
        "# Loop through each unique day\n",
        "for i in range(0, ndays):\n",
        "    # Get the DataFrame corresponding to the current day\n",
        "    df_t = day_subsets_df.get_group(days[i])\n",
        "\n",
        "    # Loop through each row in the current day's DataFrame\n",
        "    for j in range(len(df_t)):\n",
        "        # Get the current day's DataFrame\n",
        "        df_t = day_subsets_df.get_group(days[i])\n",
        "\n",
        "        # Extract the \"Interval_5\" and \"flow\" values and populate 'vectorized_day_dataset'\n",
        "        vectorized_day_dataset[i, df_t.iloc[j][\"Interval_5\"]] = df_t.iloc[j][\"flow\"]\n",
        "\n",
        "# Print the resulting 'vectorized_day_dataset'\n",
        "print(vectorized_day_dataset)"
      ],
      "metadata": {
        "colab": {
          "base_uri": "https://localhost:8080/"
        },
        "id": "6hGymtO3PtC5",
        "outputId": "873fdeac-ae64-46b3-99b9-4b4db10c6cb1"
      },
      "execution_count": 3,
      "outputs": [
        {
          "output_type": "stream",
          "name": "stderr",
          "text": [
            "/tmp/ipython-input-2050002240.py:22: FutureWarning: When grouping with a length-1 list-like, you will need to pass a length-1 tuple to get_group in a future version of pandas. Pass `(name,)` instead of `name` to silence this warning.\n",
            "  df_t = day_subsets_df.get_group(days[i])\n",
            "/tmp/ipython-input-2050002240.py:27: FutureWarning: When grouping with a length-1 list-like, you will need to pass a length-1 tuple to get_group in a future version of pandas. Pass `(name,)` instead of `name` to silence this warning.\n",
            "  df_t = day_subsets_df.get_group(days[i])\n"
          ]
        },
        {
          "output_type": "stream",
          "name": "stdout",
          "text": [
            "[[ 39.  18.  26. ...  32.  39.  34.]\n",
            " [ 30.  32.  27. ...  44.  41.  39.]\n",
            " [ 36.  44.  52. ...  50.  45.  23.]\n",
            " ...\n",
            " [ 20.  34.  31. ...  38.  42.  36.]\n",
            " [ 36.  40.  25. ...  38.  56.  35.]\n",
            " [ 33.  32.  34. ... 130. 129. 117.]]\n"
          ]
        }
      ]
    },
    {
      "cell_type": "markdown",
      "source": [
        "Data exploration"
      ],
      "metadata": {
        "id": "o8ZWvjbBQjwz"
      }
    },
    {
      "cell_type": "code",
      "source": [
        "print('number of nans',np.sum(np.isnan(vectorized_day_dataset)))\n",
        "print('rate of nans',np.sum(np.isnan(vectorized_day_dataset))/(ndays*nintvals))"
      ],
      "metadata": {
        "colab": {
          "base_uri": "https://localhost:8080/"
        },
        "id": "ccevNPstQciS",
        "outputId": "61b34912-9915-4af0-eac3-85f52c6aeb20"
      },
      "execution_count": 4,
      "outputs": [
        {
          "output_type": "stream",
          "name": "stdout",
          "text": [
            "number of nans 277\n",
            "rate of nans 0.0026350837138508373\n"
          ]
        }
      ]
    },
    {
      "cell_type": "code",
      "source": [
        "nans_per_time = np.sum(np.isnan(vectorized_day_dataset),0)\n",
        "print(nans_per_time.shape)\n",
        "\n",
        "import matplotlib.pyplot as plt\n",
        "\n",
        "fig, ax = plt.subplots()\n",
        "# Create an array 'x_axis' representing the 5-minute intervals\n",
        "x_axis = np.arange(0, nintvals, 1, dtype=int)\n",
        "# Initialize an empty list 'x_axis_hours' to store time values in hours\n",
        "x_axis_hours = []\n",
        "# Convert interval indices to hours and append them to 'x_axis_hours'\n",
        "for i in range(0, len(x_axis)):\n",
        "  x_axis_hours.append(float(x_axis[i]*5)/60)\n",
        "ax.bar(x_axis_hours,height=nans_per_time)\n",
        "\n",
        "\n",
        "ax.set_ylabel('number of missing values')\n",
        "ax.set_xlabel('5-minute intervals')\n",
        "ax.set_title('Time profile of missing values')\n",
        "\n",
        "plt.show()"
      ],
      "metadata": {
        "colab": {
          "base_uri": "https://localhost:8080/",
          "height": 489
        },
        "id": "WxHH511ERo2f",
        "outputId": "baeae4cf-aa7a-4084-ee6b-36d72ebd612d"
      },
      "execution_count": 5,
      "outputs": [
        {
          "output_type": "stream",
          "name": "stdout",
          "text": [
            "(288,)\n"
          ]
        },
        {
          "output_type": "display_data",
          "data": {
            "text/plain": [
              "<Figure size 640x480 with 1 Axes>"
            ],
            "image/png": "[encoded data removed]"
          },
          "metadata": {}
        }
      ]
    },
    {
      "cell_type": "code",
      "source": [
        "nans_per_day = np.sum(np.isnan(vectorized_day_dataset),1)\n",
        "print('number of days with missing value',np.size(np.where(nans_per_day > 0),1))"
      ],
      "metadata": {
        "colab": {
          "base_uri": "https://localhost:8080/"
        },
        "id": "yu0BHrkiRs0k",
        "outputId": "5055942b-aeb1-45ed-809b-bce87fdc7e14"
      },
      "execution_count": 6,
      "outputs": [
        {
          "output_type": "stream",
          "name": "stdout",
          "text": [
            "number of days with missing value 28\n"
          ]
        }
      ]
    },
    {
      "cell_type": "code",
      "source": [
        "print(np.where(nans_per_day > 0)[0])\n",
        "vectorized_day_dataset_no_nans = vectorized_day_dataset[np.where(nans_per_day == 0)[0],:]\n",
        "days_not_nans = days[np.where(nans_per_day == 0)[0]]"
      ],
      "metadata": {
        "colab": {
          "base_uri": "https://localhost:8080/"
        },
        "id": "ybdiiGHTSMnY",
        "outputId": "73028f62-48b5-457e-fa11-e1ba4cd6bac1"
      },
      "execution_count": 7,
      "outputs": [
        {
          "output_type": "stream",
          "name": "stdout",
          "text": [
            "[ 25  49  52  86  87  88 137 138 139 185 187 207 208 209 217 247 248 249\n",
            " 250 251 266 275 276 277 299 306 311 341]\n"
          ]
        }
      ]
    },
    {
      "cell_type": "code",
      "source": [
        "#X_train, X_test = train_test_split(vectorized_day_dataset_no_nans, test_size=0.2, random_state=42, shuffle=True)\n",
        "X_train, X_test, days_train_not_nans, days_test_not_nans = train_test_split(\n",
        "    vectorized_day_dataset_no_nans,\n",
        "    days_not_nans,\n",
        "    test_size=0.2,\n",
        "    random_state=42,\n",
        "    shuffle=True\n",
        ")\n",
        "#nans_per_day_train = np.sum(np.isnan(X_train),1)\n",
        "#days_train_not_nans = days[np.where(nans_per_day_train == 0)[0]]\n",
        "#print(days_train_not_nans)\n",
        "X_train"
      ],
      "metadata": {
        "colab": {
          "base_uri": "https://localhost:8080/"
        },
        "id": "TklZbwZtdN8R",
        "outputId": "e0b308bb-09f3-4685-a7e9-ef9fae9a6b77"
      },
      "execution_count": 29,
      "outputs": [
        {
          "output_type": "stream",
          "name": "stdout",
          "text": [
            "269\n"
          ]
        },
        {
          "output_type": "execute_result",
          "data": {
            "text/plain": [
              "array([[56., 36., 46., ..., 79., 67., 62.],\n",
              "       [13., 17., 17., ..., 31., 16., 15.],\n",
              "       [56., 54., 62., ..., 18., 17., 11.],\n",
              "       ...,\n",
              "       [49., 22., 32., ..., 70., 75., 67.],\n",
              "       [26., 12., 25., ..., 47., 40., 38.],\n",
              "       [30., 50., 39., ..., 26., 22., 31.]])"
            ]
          },
          "metadata": {},
          "execution_count": 29
        }
      ]
    },
    {
      "cell_type": "code",
      "source": [
        "#nans_per_day_test = np.sum(np.isnan(X_test), 1)\n",
        "#days_not_nans_eval = days_eval[np.where(nans_per_day_eval == 0)[0]]\n",
        "#print(nans_per_day_test)\n",
        "print(days_train_not_nans)\n",
        "\n"
      ],
      "metadata": {
        "colab": {
          "base_uri": "https://localhost:8080/"
        },
        "id": "qO2-Mes-0MSn",
        "outputId": "3f6ffeb9-be6f-4ef7-86d9-8f3c32b6c012"
      },
      "execution_count": 30,
      "outputs": [
        {
          "output_type": "stream",
          "name": "stdout",
          "text": [
            "[20211120 20210503 20210530 20210401 20210926 20210305 20210902 20210725\n",
            " 20210901 20210118 20210125 20211216 20210802 20211127 20210711 20210604\n",
            " 20210506 20210605 20210527 20210511 20210805 20210324 20210923 20210602\n",
            " 20211013 20210202 20211211 20211214 20210616 20210917 20210501 20210607\n",
            " 20210304 20210603 20210116 20210107 20210912 20211024 20210410 20210201\n",
            " 20210123 20211111 20211121 20210301 20210813 20210111 20210826 20210910\n",
            " 20210326 20211118 20210210 20210918 20210421 20210617 20210730 20211119\n",
            " 20210120 20210119 20210513 20210311 20210904 20210701 20210409 20210314\n",
            " 20210815 20210413 20210414 20210702 20210313 20210124 20210208 20211019\n",
            " 20210312 20211030 20210606 20210512 20210708 20210403 20211109 20210614\n",
            " 20211110 20210624 20211008 20210612 20210831 20211212 20210827 20210516\n",
            " 20210209 20210920 20211213 20210627 20210429 20210828 20210731 20210504\n",
            " 20211205 20211220 20211129 20210623 20211122 20211020 20210613 20210927\n",
            " 20210103 20210502 20210706 20210824 20210507 20211012 20211116 20210514\n",
            " 20210319 20210131 20210331 20211102 20210424 20210726 20210724 20210523\n",
            " 20210715 20210915 20210215 20211204 20210310 20210925 20210402 20210717\n",
            " 20210315 20210618 20210113 20210206 20210130 20210629 20210601 20210916\n",
            " 20210521 20211023 20210224 20210412 20211010 20210709 20210808 20210510\n",
            " 20210212 20210406 20211115 20210810 20210526 20210128 20211225 20210531\n",
            " 20211104 20210929 20210101 20211126 20211113 20211130 20210417 20210830\n",
            " 20210723 20211114 20210822 20210817 20210420 20210630 20210415 20210207\n",
            " 20210819 20210306 20210609 20210218 20211209 20211101 20210112 20211228\n",
            " 20210803 20211125 20210129 20211017 20210903 20210911 20210105 20210509\n",
            " 20210203 20211006 20210621 20211106 20211112 20210528 20210307 20210525\n",
            " 20210515 20210109 20210309 20210115 20210615 20210211 20211203 20211026\n",
            " 20210820 20211215 20210914 20210811 20210816 20211201 20210930 20211223\n",
            " 20211217 20211021 20210804 20210620 20210214 20210821 20210721 20211011\n",
            " 20210422 20210226 20210102 20210221 20210325 20210809 20210205 20211015\n",
            " 20210408 20210225 20211016 20210919 20210114 20210405 20211025 20210625\n",
            " 20211226 20210524 20211219 20210921 20210227 20210223 20210703 20210720\n",
            " 20211230 20210718 20210628 20210303 20210220 20210913 20211001 20210122\n",
            " 20211207 20210619 20211029 20210722 20211117 20211009 20211202 20210608\n",
            " 20210517 20210610 20210416 20210404 20210818 20210508 20211231 20210121\n",
            " 20210719 20210316 20210423 20211022 20210419]\n"
          ]
        }
      ]
    },
    {
      "cell_type": "markdown",
      "source": [
        "Clustering"
      ],
      "metadata": {
        "id": "iaFBAPDWR9ok"
      }
    },
    {
      "cell_type": "code",
      "source": [
        "min_samples = 5\n",
        "k = min_samples - 1  # k-th neighbor\n",
        "nbrs = NearestNeighbors(n_neighbors=k+1).fit(X_train)\n",
        "distances, indices = nbrs.kneighbors(X_train)\n",
        "k_dist = np.sort(distances[:, k])\n",
        "\n",
        "# Plot\n",
        "plt.figure(figsize=(8,4))\n",
        "plt.plot(k_dist)\n",
        "plt.ylabel(f\"{k}-NN distance\")\n",
        "plt.xlabel(\"Points sorted by distance\")\n",
        "plt.title(f\"k-distance plot (k={k})\")\n",
        "plt.grid()\n",
        "plt.show()\n",
        "\n",
        "# eps-candidates:\n",
        "eps_candidates = np.percentile(k_dist, [70, 80, 85, 90, 95])\n",
        "print(\"eps candidates (use one near knee):\", eps_candidates)\n"
      ],
      "metadata": {
        "colab": {
          "base_uri": "https://localhost:8080/",
          "height": 427
        },
        "id": "SxSLV6ZHpc1f",
        "outputId": "8dc7c325-3772-4996-9560-fb43858b69ee"
      },
      "execution_count": 14,
      "outputs": [
        {
          "output_type": "display_data",
          "data": {
            "text/plain": [
              "<Figure size 800x400 with 1 Axes>"
            ],
            "image/png": "[encoded data removed]"
          },
          "metadata": {}
        },
        {
          "output_type": "stream",
          "name": "stdout",
          "text": [
            "eps candidates (use one near knee): [634.95815532 697.25069788 759.74527291 838.19577559 935.05643724]\n"
          ]
        }
      ]
    },
    {
      "cell_type": "code",
      "source": [
        "from dateutil.relativedelta import relativedelta\n",
        "from matplotlib.patches import Polygon\n",
        "from matplotlib.lines import Line2D\n",
        "from matplotlib import gridspec\n",
        "from matplotlib.patches import Patch\n",
        "from matplotlib import colors\n",
        "import datetime\n",
        "\n",
        "\n",
        "def assign_colors(n_clusters, days, assigments):\n",
        "\n",
        "    days_colors = []\n",
        "    color_to_cluster = []\n",
        "    style_to_cluster = []\n",
        "    weekend_colors = ['#67001f','#d6604d','#fdae61','#f46d43','#d53e4f','#9e0142','#f768a1','#f1c232']#,'#fe9929','#cc4c02','#e31a1c','#737373','#bdbdbd','#252525','#bcbddc']\n",
        "#    weekend_school_colors = ['#c2a5cf','#f1b6da','#8e0152','#c51b7d','#de77ae','#ae017e','#fcc5c0','#e31a1c','#737373','#bdbdbd']\n",
        "#    bank_holidays_colors = ['#543005','#dfc27d','#bf812d','#8c510a']\n",
        "    mixed_colors = ['#4d4d4d','#35978f','#bababa','#878787']\n",
        "    weekday_colors = ['#a6cee3','#1f78b4','#b2df8a','#33a02c','#cab2d6','#6a3d9a','#b15928','#8dd3c7','#bebada','#fb8072','#b3de69','#bc80bd','#fccde5','#ccebc5','#35978f','#80cdc1']\n",
        "\n",
        "    cluster_id_weekdays_share = []\n",
        "    cluster_id_weekend_share = []\n",
        "    cluster_id_all_days = []\n",
        "\n",
        "    for i in range(0,n_clusters):\n",
        "        color_to_cluster.append(None)\n",
        "        style_to_cluster.append(None)\n",
        "        cluster_id_weekdays_share.append(0)\n",
        "        cluster_id_weekend_share.append(0)\n",
        "        cluster_id_all_days.append(0)\n",
        "\n",
        "    for i in range(0,len(days)):\n",
        "        #print(i,assigments[i],len(assigments),len(cluster_id_all_days))\n",
        "        if assigments[i] is not None:\n",
        "            cluster_id_all_days[assigments[i]] += 1\n",
        "            if '-' in str(days[i]):\n",
        "                pomT = datetime.datetime.strptime(str(days[i]),'%Y-%m-%d')\n",
        "            else:\n",
        "                pomT = datetime.datetime.strptime(str(days[i]),'%Y%m%d')\n",
        "\n",
        "            if int(pomT.weekday()) < 5:\n",
        "                cluster_id_weekdays_share[assigments[i]] += 1\n",
        "            else:\n",
        "                cluster_id_weekend_share[assigments[i]] += 1\n",
        "\n",
        "    print('cluster_id_weekdays_share',cluster_id_weekdays_share)\n",
        "    print('cluster_id_weekend_share',cluster_id_weekend_share)\n",
        "    for i in range(0,len(days)):\n",
        "        if assigments[i] is not None:\n",
        "            cluster_idx = assigments[i]\n",
        "            if '-' in str(days[i]):\n",
        "                pomT = datetime.datetime.strptime(str(days[i]),'%Y-%m-%d')\n",
        "            else:\n",
        "                pomT = datetime.datetime.strptime(str(days[i]),'%Y%m%d')\n",
        "            if color_to_cluster[assigments[i]] is None:\n",
        "                if cluster_id_weekend_share[cluster_idx] / float(cluster_id_all_days[cluster_idx]) > 0.6:\n",
        "                        color_to_cluster[assigments[i]] = weekend_colors.pop()\n",
        "                        style_to_cluster[assigments[i]] = ':'\n",
        "                elif cluster_id_weekdays_share[cluster_idx] / float(cluster_id_all_days[cluster_idx]) > 0.6:\n",
        "                        color_to_cluster[assigments[i]] = weekday_colors.pop(0)\n",
        "                        style_to_cluster[assigments[i]] = '-'\n",
        "                else:\n",
        "                    color_to_cluster[assigments[i]] = mixed_colors.pop()\n",
        "                    style_to_cluster[assigments[i]] = ':'\n",
        "\n",
        "            days_colors.append(color_to_cluster[assigments[i]])\n",
        "        else:\n",
        "            days_colors.append(None)\n",
        "\n",
        "    return days_colors,color_to_cluster,style_to_cluster\n",
        "\n",
        "\n",
        "def calmap(ax, year, data, days, assigments, n_clusters,days_colors,color_to_cluster,\n",
        "           limit_graphics=False):\n",
        "\n",
        "    ax.tick_params('x', length=0, labelsize=\"medium\", which='major')\n",
        "    ax.tick_params('y', length=0, labelsize=\"x-small\", which='major')\n",
        "\n",
        "    # Month borders\n",
        "\n",
        "    xticks, labels = [], []\n",
        "    start = datetime.datetime(year,1,1).weekday()\n",
        "\n",
        "    for month in range(1,13):\n",
        "\n",
        "        first = datetime.datetime(year, month, 1)\n",
        "        last = first + relativedelta(months=1, days=-1)\n",
        "\n",
        "        y0 = first.weekday()\n",
        "        y1 = last.weekday()\n",
        "        x0 = (int(first.strftime(\"%j\"))+start-1)//7\n",
        "        x1 = (int(last.strftime(\"%j\"))+start-1)//7\n",
        "\n",
        "        P = [ (x0,   y0), (x0,    7),  (x1,   7),\n",
        "              (x1,   y1+1), (x1+1,  y1+1), (x1+1, 0),\n",
        "              (x0+1,  0), (x0+1,  y0) ]\n",
        "\n",
        "        xticks.append(x0 +(x1-x0+1)/2)\n",
        "        labels.append(first.strftime(\"%b\"))\n",
        "        poly = Polygon(P, edgecolor=\"black\", facecolor=\"None\",\n",
        "\n",
        "                       linewidth=1, zorder=20, clip_on=False)\n",
        "\n",
        "        ax.add_artist(poly)\n",
        "\n",
        "    line = Line2D([0,53],[5,5],linewidth=1, zorder = 20,color=\"black\",linestyle='dashed')\n",
        "    ax.add_artist(line)\n",
        "\n",
        "    if not limit_graphics:\n",
        "        ax.set_xticks(xticks)\n",
        "        ax.set_xticklabels(labels)\n",
        "        ax.set_yticks(0.5 + np.arange(7))\n",
        "        ax.set_yticklabels([\"Mon\", \"Tue\", \"Wed\", \"Thu\", \"Fri\", \"Sat\", \"Sun\"])\n",
        "        ax.set_title(\"{}\".format(year), weight=\"semibold\")\n",
        "    else:\n",
        "        plt.tick_params(\n",
        "            axis='x',          # changes apply to the x-axis\n",
        "            which='both',      # both major and minor ticks are affected\n",
        "            bottom=False,      # ticks along the bottom edge are off\n",
        "            top=False,         # ticks along the top edge are off\n",
        "            labelbottom=False)\n",
        "        plt.tick_params(\n",
        "            axis='y',          # changes apply to the x-axis\n",
        "            which='both',      # both major and minor ticks are affected\n",
        "            left=False,      # ticks along the bottom edge are off\n",
        "            right=False,         # ticks along the top edge are off\n",
        "            labelleft=False)\n",
        "\n",
        "    # Clearing first and last day from the data\n",
        "    valid = datetime.datetime(year, 1, 1).weekday()\n",
        "    data[:valid,0] = np.nan\n",
        "    valid = datetime.datetime(year, 12, 31).weekday()\n",
        "    # data[:,x1+1:] = np.nan\n",
        "    data[valid+1:,x1] = np.nan\n",
        "\n",
        "    for i in range(0,len(days)):\n",
        "        if '-' in str(days[i]):\n",
        "            pomT = datetime.datetime.strptime(str(days[i]),'%Y-%m-%d')\n",
        "        else:\n",
        "            pomT = datetime.datetime.strptime(str(days[i]),'%Y%m%d')\n",
        "        week_number = int(pomT.strftime(\"%W\"))\n",
        "        day_of_week = int(pomT.weekday())\n",
        "        data[day_of_week,week_number] = assigments[i]\n",
        "\n",
        "\n",
        "    act_date = datetime.datetime(year,1,1)\n",
        "    while (act_date.year == year):\n",
        "\n",
        "        week_number = int(act_date.strftime(\"%W\"))\n",
        "        day_of_week = int(act_date.weekday())\n",
        "        doy_id = act_date.timetuple().tm_yday\n",
        "        if doy_id<5 and week_number > 53:\n",
        "            week_number = 0\n",
        "\n",
        "        act_date = act_date + datetime.timedelta(days=1)\n",
        "\n",
        "    #pomT = datetime.datetime.strptime('2017-01-01','%Y-%m-%d')\n",
        "    #week_number = int(pomT.strftime(\"%V\"))\n",
        "    #day_of_week = int(pomT.weekday())\n",
        "    #print(week_number,day_of_week)\n",
        "    #doy_id = pomT.timetuple().tm_yday\n",
        "    #if doy_id<5 and week_number > 0:\n",
        "    #    week_number = 0\n",
        "    #data[day_of_week,week_number] = len(clusters)+10\n",
        "\n",
        "    # Showing data\n",
        "    cmap = plt.cm.spring  # Can be any colormap that you want after the cm\n",
        "    cmap.set_bad(color='white')\n",
        "\n",
        "    #ax.imshow(data, extent=[0,53,0,7], zorder=10, vmin=0, vmax=len(clusters)+10,\n",
        "    #          cmap=cmap, origin=\"lower\", alpha=.75)\n",
        "\n",
        "    cmap = colors.ListedColormap(color_to_cluster)\n",
        "    bounds=[-0.1]\n",
        "    step = 1\n",
        "    for i in range(0,n_clusters):\n",
        "        bounds.append(i-0.1+step)\n",
        "    norm = colors.BoundaryNorm(bounds, cmap.N)\n",
        "    #print(color_to_cluster)\n",
        "   #print(bounds)\n",
        "    #print(norm)\n",
        "\n",
        "    #print(color_to_cluster)\n",
        "    #print(bounds)\n",
        "    #print(cmap)\n",
        "    #exit(0)\n",
        "\n",
        "    ax.imshow(data, extent=[0,53,0,7], zorder=10, interpolation='nearest', origin='lower',cmap=cmap, norm=norm)\n",
        "\n",
        "def make_calendar_visualization_figure(days,assigments,n_clusters,years,days_colors,color_to_cluster,\n",
        "                                       save_figure: str = None, show_figure:bool = True, limit_graphics = False):\n",
        "\n",
        "    fig = plt.figure(figsize=(8,1.5*len(years)), dpi=100)\n",
        "    X = np.linspace(-1,1, 53*7)\n",
        "\n",
        "    for i, obj in enumerate(years):\n",
        "\n",
        "        pom_s = str(len(years))+'1'+str(i+1)\n",
        "        print(pom_s)\n",
        "\n",
        "        ax = plt.subplot(int(pom_s), xlim=[0, 53], ylim=[0, 7], frameon=False, aspect=1)\n",
        "        I = 1.2 - np.cos(X.ravel()) + np.random.normal(0,.2, X.size)\n",
        "        I = I.reshape(53,7).T\n",
        "        I.fill(np.nan)\n",
        "        calmap(ax, int(obj), I.reshape(53,7).T, days, assigments, n_clusters,days_colors,color_to_cluster, limit_graphics)\n",
        "\n",
        "    #   ax = plt.subplot(212, xlim=[0,53], ylim=[0,7], frameon=False, aspect=1)\n",
        "    #  I = 1.1 - np.cos(X.ravel()) + np.random.normal(0,.2, X.size)\n",
        "    #   calmap(ax, 2018, I.reshape(53,7).T)\n",
        "\n",
        "    #ax = plt.subplot(313, xlim=[0,53], ylim=[0,7], frameon=False, aspect=1)\n",
        "    #I = 1.0 - np.cos(X.ravel()) + np.random.normal(0,.2, X.size)\n",
        "    #calmap(ax, 2019, I.reshape(53,7).T)\n",
        "    if save_figure:\n",
        "        plt.savefig(save_figure)\n",
        "\n",
        "    if show_figure or save_figure is None:\n",
        "        plt.tight_layout()\n",
        "        plt.show()\n",
        "\n",
        "\n",
        "def make_figure_centroids(x,y,color_to_cluster,style_to_cluster,cluster_ids,minY = None,maxY = None,\n",
        "                          save_figure: str = None, show_figure:bool = True):\n",
        "\n",
        "    #print(color_to_cluster)\n",
        "    fig = plt.figure(figsize=(8,3))\n",
        "    ax = fig.add_subplot(111)\n",
        "    for i in range(0,len(x)):\n",
        "        #print(i,color_to_cluster[i],style_to_cluster[i])\n",
        "        #print(y[i])\n",
        "        ax.plot(x[i],y[i],style_to_cluster[i], color=color_to_cluster[i], label=str(cluster_ids[i]))\n",
        "    ax.set_xlabel('Time of day')\n",
        "    ax.set_ylabel('Flow')\n",
        "    if minY is not None and maxY is not None:\n",
        "        ax.set_ylim([minY, maxY])\n",
        "    plt.legend()\n",
        "\n",
        "    if save_figure:\n",
        "        plt.savefig(save_figure)\n",
        "\n",
        "    if show_figure or save_figure is None:\n",
        "        plt.tight_layout()\n",
        "        plt.show()\n",
        "\n"
      ],
      "metadata": {
        "id": "Tm6sFyehoRm8"
      },
      "execution_count": 25,
      "outputs": []
    },
    {
      "cell_type": "code",
      "source": [
        "def find_the_closest_centroid(centroids, new_day, from_interval: int, to_interval: int):\n",
        "    closest_centroid = None\n",
        "    closest_dist = None\n",
        "\n",
        "    for i in range(len(centroids)):\n",
        "        # nur den relevanten Zeitbereich vergleichen\n",
        "        ed_t = dis_lib.paired_distances(\n",
        "            centroids[i][:, from_interval:to_interval+1],\n",
        "            new_day[:, from_interval:to_interval+1],\n",
        "            metric='euclidean'\n",
        "        )\n",
        "\n",
        "        if closest_centroid is None or closest_dist > ed_t:\n",
        "            closest_centroid = i\n",
        "            closest_dist = ed_t\n",
        "\n",
        "    return closest_centroid\n",
        "\n",
        "def evaluate_clustering(method, model, X_train, X_test, params):\n",
        "    labels = None\n",
        "    if method == \"GMM\":\n",
        "      labels=model.fit(X_train).predict(X_train)\n",
        "        #model.fit(X_train)\n",
        "        #labels = model.predict(X_train)\n",
        "    else:\n",
        "        clusters = model.fit(X_train)\n",
        "        if clusters is not None:\n",
        "          labels = clusters.labels_\n",
        "        #labels = model.fit_predict(X_train)\n",
        "\n",
        "    #internal evaluation\n",
        "    if len(np.unique(labels)) > 1 and np.any(labels != -1):\n",
        "        sil = silhouette_score(X_train, labels)\n",
        "        db  = davies_bouldin_score(X_train, labels)\n",
        "        ch  = calinski_harabasz_score(X_train, labels)\n",
        "    else:\n",
        "        sil, db, ch = np.nan, np.nan, np.nan\n",
        "\n",
        "\n",
        "\n",
        "\n",
        "    # Calculate the number of clusters by finding unique values in 'cluster_labels'\n",
        "    n_clusters_t = len(np.unique(labels))\n",
        "\n",
        "    # Assign colors to days based on clusters\n",
        "    days_colors, color_to_cluster, style_to_cluster = assign_colors(n_clusters_t, days_train_not_nans, labels)\n",
        "    # The function 'assign_colors' is used to determine colors and styles for visualization.\n",
        "\n",
        "    # Create a calendar visualization figure\n",
        "    make_calendar_visualization_figure(days_train_not_nans, labels, n_clusters_t, [2021], days_colors,\n",
        "                                      color_to_cluster, save_figure=None)\n",
        "    # This function 'make_calendar_visualization_figure' is used to generate a visualization based on the provided data and parameters.\n",
        "    # 'days_not_nans' are the days, 'cluster_labels' are the cluster labels, 'n_clusters_t' is the number of clusters,\n",
        "    # '[2021]' represents the year, 'days_colors' represent the assigned colors for each day, 'color_to_cluster' maps colors to clusters,\n",
        "    # and 'save_figure' is an optional parameter to save the generated figure (can be None if not saving).\n",
        "\n",
        "\n",
        "\n",
        "\n",
        "\n",
        "\n",
        "    # Initialize a list to store centroid data\n",
        "    centroids = []\n",
        "    # Calculate centroids for each cluster\n",
        "    for i in np.unique(labels):\n",
        "      centroid = np.nanmean(X_train[np.where(labels == i)[0], :], 0).reshape(1, nintvals)\n",
        "      centroids.append(centroid)\n",
        "\n",
        "    # Define the number of past intervals to consider for classification\n",
        "    n_past_intervals_for_classification = 5\n",
        "\n",
        "    # Initialize variables to calculate accuracy metrics\n",
        "    total_mae = 0\n",
        "    total_mape = 0\n",
        "    prediction_counts = 0\n",
        "\n",
        "# Loop through each day in the evaluation dataset with no missing values\n",
        "    for i in range(0, X_test.shape[0]):\n",
        "        # Loop through intervals from n_past_intervals_for_classification to nintvals - 1\n",
        "        for j in range(n_past_intervals_for_classification, nintvals - 1):\n",
        "            # Find the closest centroid for the current data point\n",
        "            centroid_index = find_the_closest_centroid(centroids, X_test[i].reshape(1, nintvals), j - n_past_intervals_for_classification, j)\n",
        "\n",
        "            # Predict the value for the next interval\n",
        "            predicted_value = centroids[centroid_index][0, j + 1]\n",
        "\n",
        "            # Calculate Mean Absolute Error (MAE) and Mean Absolute Percentage Error (MAPE)\n",
        "            mae_t = abs(predicted_value - X_test[i][j + 1])\n",
        "            mape_t = abs(predicted_value - X_test[i][j + 1]) / float(X_test[i][j + 1])\n",
        "\n",
        "            # Accumulate MAE, MAPE, and count of predictions\n",
        "            total_mae += mae_t\n",
        "            total_mape += mape_t\n",
        "            prediction_counts += 1\n",
        "\n",
        "\n",
        "    results.append({\n",
        "        \"Method\": method,\n",
        "        \"Params\": params,\n",
        "        \"Silhouette\": sil,\n",
        "        \"DaviesBouldin\": db,\n",
        "        \"CalinskiHarabasz\": ch,\n",
        "        \"accuracy MAE\": total_mae / prediction_counts,\n",
        "        \"accuracy MAPE\": total_mape / prediction_counts\n",
        "    })\n"
      ],
      "metadata": {
        "id": "php1lp2hkfWj"
      },
      "execution_count": 23,
      "outputs": []
    },
    {
      "cell_type": "code",
      "source": [
        "results = []\n",
        "\n",
        "labels = None\n",
        "n_clusters = [10]#[2,4,6,8,10,12]\n",
        "\n",
        "for k in n_clusters:\n",
        "    # KMeans\n",
        "    km = KMeans(n_clusters=k, random_state=42)\n",
        "    evaluate_clustering(\"KMeans\", km, X_train, X_test, {\"n_clusters\": k})\n",
        "\n",
        "    # GMM\n",
        "    gmm = GaussianMixture(n_components=k, random_state=42)\n",
        "    evaluate_clustering(\"GMM\", gmm, X_train, X_test, {\"n_components\": k})\n",
        "\n",
        "    # Agglomerative\n",
        "    agg = AgglomerativeClustering(n_clusters=k)\n",
        "    evaluate_clustering(\"Agglomerative\", agg, X_train, X_test, {\"n_clusters\": k})\n",
        "\n",
        "    print(k,\"done\")\n",
        "\n",
        "# DBSCAN separate, eps und min_samples vary\n",
        "for eps in [500,600]:     #[400, 500, 600, 700, 800]:\n",
        "    for ms in [2,4,6]:\n",
        "        db = DBSCAN(eps=eps, min_samples=ms)\n",
        "        evaluate_clustering(\"DBSCAN\", db, X_train, X_test, {\"eps\": eps, \"min_samples\": ms})\n",
        "    print (eps, \"done\")\n",
        "\n"
      ],
      "metadata": {
        "colab": {
          "base_uri": "https://localhost:8080/",
          "height": 1000
        },
        "id": "lwdb-OYPlczq",
        "outputId": "223c86dc-4b14-48d2-cdc6-e0859bafea88"
      },
      "execution_count": 31,
      "outputs": [
        {
          "output_type": "stream",
          "name": "stdout",
          "text": [
            "cluster_id_weekdays_share [3, 4, 68, 3, 32, 23, 6, 6, 25, 22]\n",
            "cluster_id_weekend_share [0, 31, 0, 40, 0, 0, 6, 0, 0, 0]\n",
            "111\n"
          ]
        },
        {
          "output_type": "display_data",
          "data": {
            "text/plain": [
              "<Figure size 800x150 with 1 Axes>"
            ],
            "image/png": "[encoded data removed]"
          },
          "metadata": {}
        },
        {
          "output_type": "stream",
          "name": "stdout",
          "text": [
            "cluster_id_weekdays_share [3, 4, 68, 3, 32, 23, 6, 6, 25, 22]\n",
            "cluster_id_weekend_share [0, 31, 0, 40, 0, 0, 6, 0, 0, 0]\n",
            "111\n"
          ]
        },
        {
          "output_type": "display_data",
          "data": {
            "text/plain": [
              "<Figure size 800x150 with 1 Axes>"
            ],
            "image/png": "[encoded data removed]"
          },
          "metadata": {}
        },
        {
          "output_type": "stream",
          "name": "stdout",
          "text": [
            "cluster_id_weekdays_share [53, 7, 3, 14, 28, 1, 1, 27, 31, 27]\n",
            "cluster_id_weekend_share [0, 40, 17, 0, 0, 0, 20, 0, 0, 0]\n",
            "111\n"
          ]
        },
        {
          "output_type": "display_data",
          "data": {
            "text/plain": [
              "<Figure size 800x150 with 1 Axes>"
            ],
            "image/png": "[encoded data removed]"
          },
          "metadata": {}
        },
        {
          "output_type": "stream",
          "name": "stdout",
          "text": [
            "10 done\n",
            "cluster_id_weekdays_share [0, 25, 2, 2, 9, 3, 1, 20, 3, 5, 122]\n",
            "cluster_id_weekend_share [8, 0, 29, 0, 0, 0, 25, 0, 0, 0, 15]\n",
            "111\n"
          ]
        },
        {
          "output_type": "display_data",
          "data": {
            "text/plain": [
              "<Figure size 800x150 with 1 Axes>"
            ],
            "image/png": "[encoded data removed]"
          },
          "metadata": {}
        },
        {
          "output_type": "stream",
          "name": "stdout",
          "text": [
            "cluster_id_weekdays_share [0, 1, 9, 25, 1, 11, 4, 7, 134]\n",
            "cluster_id_weekend_share [8, 29, 0, 0, 25, 0, 0, 0, 15]\n",
            "111\n"
          ]
        },
        {
          "output_type": "display_data",
          "data": {
            "text/plain": [
              "<Figure size 800x150 with 1 Axes>"
            ],
            "image/png": "[encoded data removed]"
          },
          "metadata": {}
        },
        {
          "output_type": "stream",
          "name": "stdout",
          "text": [
            "cluster_id_weekdays_share [1, 10, 25, 1, 9, 6, 140]\n",
            "cluster_id_weekend_share [25, 0, 0, 23, 0, 0, 29]\n",
            "111\n"
          ]
        },
        {
          "output_type": "display_data",
          "data": {
            "text/plain": [
              "<Figure size 800x150 with 1 Axes>"
            ],
            "image/png": "[encoded data removed]"
          },
          "metadata": {}
        },
        {
          "output_type": "stream",
          "name": "stdout",
          "text": [
            "500 done\n"
          ]
        }
      ]
    },
    {
      "cell_type": "code",
      "source": [
        "results_df = pd.DataFrame(results)\n",
        "print(results_df.sort_values(by=\"accuracy MAE\"))"
      ],
      "metadata": {
        "colab": {
          "base_uri": "https://localhost:8080/"
        },
        "id": "Pb-ZQR8b7oFO",
        "outputId": "29506700-9d52-49da-d5c1-9afc772bf353"
      },
      "execution_count": 54,
      "outputs": [
        {
          "output_type": "stream",
          "name": "stdout",
          "text": [
            "           Method                          Params  Silhouette  DaviesBouldin  \\\n",
            "17  Agglomerative              {'n_clusters': 12}    0.163210       1.762242   \n",
            "14  Agglomerative              {'n_clusters': 10}    0.166805       1.754096   \n",
            "16            GMM            {'n_components': 12}    0.169686       1.627302   \n",
            "15         KMeans              {'n_clusters': 12}    0.169686       1.627302   \n",
            "11  Agglomerative               {'n_clusters': 8}    0.191241       1.368608   \n",
            "13            GMM            {'n_components': 10}    0.194555       1.677786   \n",
            "12         KMeans              {'n_clusters': 10}    0.194555       1.677786   \n",
            "8   Agglomerative               {'n_clusters': 6}    0.225368       1.440012   \n",
            "9          KMeans               {'n_clusters': 8}    0.219234       1.750012   \n",
            "10            GMM             {'n_components': 8}    0.219234       1.750012   \n",
            "22         DBSCAN  {'eps': 500, 'min_samples': 4}   -0.102801       2.259884   \n",
            "21         DBSCAN  {'eps': 500, 'min_samples': 2}   -0.121310       2.067250   \n",
            "7             GMM             {'n_components': 6}    0.241551       1.532438   \n",
            "6          KMeans               {'n_clusters': 6}    0.241551       1.532438   \n",
            "23         DBSCAN  {'eps': 500, 'min_samples': 6}   -0.103757       2.351158   \n",
            "18         DBSCAN  {'eps': 400, 'min_samples': 2}   -0.249637       1.553986   \n",
            "5   Agglomerative               {'n_clusters': 4}    0.252118       1.380106   \n",
            "3          KMeans               {'n_clusters': 4}    0.245146       1.414883   \n",
            "4             GMM             {'n_components': 4}    0.245146       1.414883   \n",
            "19         DBSCAN  {'eps': 400, 'min_samples': 4}   -0.287480       2.180929   \n",
            "2   Agglomerative               {'n_clusters': 2}    0.319379       1.238962   \n",
            "1             GMM             {'n_components': 2}    0.294584       1.278613   \n",
            "0          KMeans               {'n_clusters': 2}    0.294584       1.278613   \n",
            "24         DBSCAN  {'eps': 600, 'min_samples': 2}   -0.157518       2.991498   \n",
            "25         DBSCAN  {'eps': 600, 'min_samples': 4}   -0.059745       3.487886   \n",
            "26         DBSCAN  {'eps': 600, 'min_samples': 6}   -0.060243       3.499382   \n",
            "30         DBSCAN  {'eps': 800, 'min_samples': 2}    0.085047       2.968499   \n",
            "31         DBSCAN  {'eps': 800, 'min_samples': 4}    0.185294       3.427537   \n",
            "32         DBSCAN  {'eps': 800, 'min_samples': 6}    0.179172       3.646242   \n",
            "29         DBSCAN  {'eps': 700, 'min_samples': 6}    0.124555       4.355834   \n",
            "28         DBSCAN  {'eps': 700, 'min_samples': 4}    0.127563       4.282309   \n",
            "27         DBSCAN  {'eps': 700, 'min_samples': 2}    0.127563       4.282309   \n",
            "20         DBSCAN  {'eps': 400, 'min_samples': 6}         NaN            NaN   \n",
            "\n",
            "    CalinskiHarabasz  accuracy MAE  accuracy MAPE  \n",
            "17         55.364644     18.615854       0.178702  \n",
            "14         62.297514     18.711587       0.181211  \n",
            "16         52.542429     19.074374       0.188933  \n",
            "15         52.542429     19.074374       0.188933  \n",
            "11         70.977072     19.634702       0.185659  \n",
            "13         57.943759     21.039471       0.359713  \n",
            "12         57.943759     21.039471       0.359713  \n",
            "8          85.952266     21.124394       0.204550  \n",
            "9          69.630585     21.692421       0.379314  \n",
            "10         69.630585     21.692421       0.379314  \n",
            "22         21.944283     22.011128       0.395025  \n",
            "21         18.763258     22.017846       0.395743  \n",
            "7          89.439136     22.699376       0.392503  \n",
            "6          89.439136     22.699376       0.392503  \n",
            "23         22.876012     22.713453       0.398897  \n",
            "18          5.181370     25.007260       0.392271  \n",
            "5         109.127362     25.029259       0.433639  \n",
            "3         111.005536     25.171197       0.426057  \n",
            "4         111.005536     25.171197       0.426057  \n",
            "19          4.215616     28.530487       0.452197  \n",
            "2         153.111337     32.223756       0.560662  \n",
            "1         139.719610     32.806622       0.556839  \n",
            "0         139.719610     32.806622       0.556839  \n",
            "24          7.222700     33.055108       0.574319  \n",
            "25          9.727381     36.065275       0.695088  \n",
            "26          9.696310     36.083243       0.695398  \n",
            "30          5.012530     37.087922       0.721107  \n",
            "31          8.250765     40.438428       0.753536  \n",
            "32          7.572344     40.660598       0.759837  \n",
            "29          7.244423     40.996400       0.774886  \n",
            "28          7.353145     41.077855       0.775555  \n",
            "27          7.353145     41.077855       0.775555  \n",
            "20               NaN     46.309271       0.844055  \n"
          ]
        }
      ]
    },
    {
      "cell_type": "code",
      "source": [
        "n_clusters = 10\n",
        "clusters = None\n",
        "\n",
        "clustering_methods = [\n",
        "    {\"name\": \"KMeans\", \"model\": KMeans(n_clusters=n_clusters, random_state=0, n_init=\"auto\")},\n",
        "    {\"name\": \"Agglomerative\", \"model\": AgglomerativeClustering(n_clusters=n_clusters, metric='euclidean', linkage='ward')},\n",
        "    {\"name\": \"DBSCAN\", \"model\": DBSCAN(eps=500, min_samples=2)},\n",
        "    {\"name\": \"GMM\", \"model\": GaussianMixture(n_components=n_clusters)}\n",
        "]\n",
        "\n",
        "for method in clustering_methods:\n",
        "    print(f\"\\nRunning clustering with: {method['name']}\")\n",
        "    model = method[\"model\"]\n",
        "\n",
        "    if method[\"name\"] == \"GMM\":\n",
        "        cluster_labels = model.fit(X_train).predict(X_train)\n",
        "    else:\n",
        "        clusters = model.fit(X_train)\n",
        "        cluster_labels = clusters.labels_\n",
        "    SC_score = silhouette_score(X_train, cluster_labels)\n",
        "    DB_score = davies_bouldin_score(X_train, cluster_labels)\n",
        "    CH_score = calinski_harabasz_score(X_train, cluster_labels)\n",
        "    total_score=SC_score-DB_score+np.log(CH_score+1)\n",
        "\n",
        "    print(cluster_labels)\n",
        "    print('Silhouette Score:', SC_score)\n",
        "    print('Davies-Bouldin Score:', DB_score)\n",
        "    print('Calinski-Harabasz Score:', CH_score)\n",
        "    print(\"total SCore\",total_score)\n"
      ],
      "metadata": {
        "colab": {
          "base_uri": "https://localhost:8080/"
        },
        "id": "N1EfF1zEgBFR",
        "outputId": "c7a73fca-adc2-461c-f774-d4b66b6d65c6"
      },
      "execution_count": 23,
      "outputs": [
        {
          "output_type": "stream",
          "name": "stdout",
          "text": [
            "\n",
            "Running clustering with: KMeans\n",
            "[1 7 9 8 9 2 7 9 7 2 2 6 6 1 9 7 7 9 7 7 4 8 7 7 7 2 1 6 7 7 1 7 8 7 3 2 9\n",
            " 9 1 2 1 6 1 8 7 2 7 7 8 6 2 9 8 7 6 6 8 8 2 2 9 4 8 3 9 8 8 7 1 3 2 7 8 9\n",
            " 9 7 7 3 6 7 6 7 7 9 7 1 7 9 2 7 6 9 8 9 9 7 1 6 6 7 6 7 9 0 3 9 5 7 7 7 6\n",
            " 6 8 3 8 5 1 6 9 9 6 7 2 1 8 9 1 2 8 7 2 3 3 7 7 7 7 9 8 8 9 6 9 7 2 2 6 7\n",
            " 7 4 3 7 6 7 3 6 1 6 1 7 6 1 9 0 8 7 8 3 7 3 7 8 6 5 2 9 6 6 2 9 7 9 9 9 2\n",
            " 7 7 1 4 7 3 7 9 3 2 2 7 2 6 7 7 6 7 7 7 6 7 9 6 7 6 9 3 9 6 7 8 8 3 3 8 5\n",
            " 2 7 8 8 9 9 2 3 7 4 3 7 1 7 1 8 2 6 9 9 7 2 1 7 7 8 6 2 7 6 6 9 6 7 7 7 8\n",
            " 3 7 9 3 8 6 8 8 7 8]\n",
            "Silhouette Score: 0.1831182887186136\n",
            "Davies-Bouldin Score: 1.6680273638821574\n",
            "Calinski-Harabasz Score: 57.43904653634981\n",
            "total SCore 2.583075196328327\n",
            "\n",
            "Running clustering with: Agglomerative\n",
            "[6 0 1 7 1 7 0 1 0 7 7 4 3 6 1 9 0 1 0 0 5 8 0 9 0 7 6 4 0 0 6 0 8 0 2 1 1\n",
            " 1 6 7 6 4 6 8 9 7 0 0 8 4 7 1 8 0 3 4 8 7 1 7 1 9 8 2 1 8 8 9 6 2 7 0 8 1\n",
            " 1 9 9 2 4 0 4 0 0 1 0 6 9 1 7 0 4 1 8 1 1 0 6 4 4 0 4 0 1 0 2 1 3 0 9 0 4\n",
            " 3 8 2 8 4 6 3 1 1 3 9 7 6 8 1 6 1 8 9 7 2 2 9 0 0 0 1 8 8 1 3 1 0 7 7 4 9\n",
            " 0 7 2 0 4 0 2 4 6 4 6 0 3 6 1 0 8 0 8 2 0 6 9 8 4 4 7 1 3 4 7 1 9 1 1 1 7\n",
            " 0 0 6 4 0 2 0 1 2 7 7 9 7 4 0 9 4 0 9 0 4 0 1 4 9 3 1 2 1 3 0 8 7 2 2 8 9\n",
            " 7 9 8 8 1 1 7 2 9 1 2 9 6 0 6 8 1 3 1 1 9 7 6 0 0 8 4 1 0 3 4 1 4 0 0 9 8\n",
            " 2 9 1 2 8 3 8 8 9 8]\n",
            "Silhouette Score: 0.16680503061573668\n",
            "Davies-Bouldin Score: 1.754095988410591\n",
            "Calinski-Harabasz Score: 62.29751424468132\n",
            "total SCore 2.560555101147897\n",
            "\n",
            "Running clustering with: DBSCAN\n",
            "[ 0  1  2 -1  2 -1 -1  2  1  3 -1 -1  4  0  2 -1 -1 -1  1 -1 -1 -1 -1 -1\n",
            "  1 -1  0  5  1 -1  6  1  7  1  6  7  2 -1  6 -1  6 -1  0  7 -1 -1 -1  8\n",
            "  7 -1  9  2  7  1 -1 -1  7 -1 -1 -1 -1 -1 -1  6  2  7  7 -1  6  6  9  1\n",
            "  7  2  2 -1 -1  6 -1 -1 -1  1  8 -1  1  0 -1  2  9  1  5  2 -1 -1  2  1\n",
            " -1 -1  5 -1 -1  1  2 -1  6  2 -1  1 -1 -1 -1  4  7  6 -1 -1  6  4  2  2\n",
            "  4 -1  3  0  7 -1 -1  2 -1 -1 -1  6  6 -1 -1  1 -1  2 -1 -1 -1 -1  2 -1\n",
            "  9 -1 -1 -1  1 -1 -1 -1 -1 -1 -1 -1  0 -1  6  1  4 -1 -1 -1 -1 -1 -1  6\n",
            " -1  6 -1 -1 -1 -1 -1  2 -1 -1  9 -1 -1  2  7  2 -1 -1  1 -1 -1 -1  6  1\n",
            "  2  6 -1 -1 -1 -1 -1 -1 -1 -1  1 -1  1 -1 -1 -1 -1 -1  4  2  6  2  4 -1\n",
            "  7 -1  6  6 -1 -1 -1 -1  7 -1 -1  2 -1  6 -1 -1  6 -1  0  1  6  7  2 -1\n",
            "  2  2 -1 -1  6  1 -1  7 -1  2  8  4 -1 -1 -1  1 -1 -1  7  6 -1  2 -1  7\n",
            "  4  7 -1 -1  7]\n",
            "Silhouette Score: -0.12131017809012988\n",
            "Davies-Bouldin Score: 2.0672495290049664\n",
            "Calinski-Harabasz Score: 18.763257834110224\n",
            "total SCore 0.7952648417823149\n",
            "\n",
            "Running clustering with: GMM\n",
            "[9 0 4 5 4 5 0 4 0 5 5 6 6 9 4 7 0 1 0 0 1 5 0 7 0 1 9 6 8 8 9 0 2 8 3 5 4\n",
            " 4 9 5 9 6 9 2 8 1 8 8 2 6 5 4 2 8 1 6 2 2 1 5 4 7 2 3 4 2 2 8 9 3 5 0 2 4\n",
            " 4 7 8 3 6 0 6 8 0 1 0 9 7 4 5 0 6 4 2 4 4 0 9 6 6 8 6 0 4 0 3 4 1 0 8 0 6\n",
            " 1 2 3 2 6 9 1 1 4 1 8 5 9 2 4 9 1 2 0 5 3 3 8 0 0 8 4 2 2 4 8 4 0 5 5 6 0\n",
            " 0 1 3 0 6 0 3 6 9 6 9 0 1 9 4 0 2 0 2 3 0 3 7 2 6 6 5 4 1 6 5 4 7 4 4 4 5\n",
            " 0 0 9 6 8 3 0 4 3 5 5 7 5 6 0 8 6 0 0 0 6 0 1 6 8 1 4 3 4 1 0 2 5 3 3 2 0\n",
            " 5 8 2 5 4 4 5 3 7 1 3 0 9 0 9 2 1 1 4 4 7 5 9 0 8 2 6 1 8 1 6 4 6 0 0 7 2\n",
            " 3 0 4 3 2 1 2 2 8 2]\n",
            "Silhouette Score: 0.1332449147173444\n",
            "Davies-Bouldin Score: 2.0482687095430996\n",
            "Calinski-Harabasz Score: 58.99456571621947\n",
            "total SCore 2.179230191898167\n"
          ]
        }
      ]
    },
    {
      "cell_type": "code",
      "source": [
        "n_clusters = 10\n",
        "clusters = None\n",
        "\n",
        "clustering_methods = [\n",
        "    {\"name\": \"KMeans\", \"model\": KMeans(n_clusters=n_clusters, random_state=0, n_init=\"auto\")},\n",
        "    {\"name\": \"Agglomerative\", \"model\": AgglomerativeClustering(n_clusters=n_clusters, metric='euclidean', linkage='ward')},\n",
        "    {\"name\": \"DBSCAN\", \"model\": DBSCAN(eps=500, min_samples=2)},\n",
        "    {\"name\": \"GMM\", \"model\": GaussianMixture(n_components=n_clusters)}\n",
        "]\n",
        "\n",
        "for method in clustering_methods:\n",
        "    print(f\"\\nRunning clustering with: {method['name']}\")\n",
        "    model = method[\"model\"]\n",
        "\n",
        "    if method[\"name\"] == \"GMM\":\n",
        "        cluster_labels = model.fit(vectorized_day_dataset_no_nans).predict(vectorized_day_dataset_no_nans)\n",
        "    else:\n",
        "        clusters = model.fit(vectorized_day_dataset_no_nans)\n",
        "        cluster_labels = clusters.labels_\n",
        "    SC_score = silhouette_score(vectorized_day_dataset_no_nans, cluster_labels)\n",
        "    DB_score = davies_bouldin_score(vectorized_day_dataset_no_nans, cluster_labels)\n",
        "    CH_score = calinski_harabasz_score(vectorized_day_dataset_no_nans, cluster_labels)\n",
        "    total_score=SC_score-DB_score+np.log(CH_score+1)\n",
        "\n",
        "    print(cluster_labels)\n",
        "    print('Silhouette Score:', SC_score)\n",
        "    print('Davies-Bouldin Score:', DB_score)\n",
        "    print('Calinski-Harabasz Score:', CH_score)\n",
        "    print(\"total SCore\",total_score)\n"
      ],
      "metadata": {
        "colab": {
          "base_uri": "https://localhost:8080/"
        },
        "id": "wpG5LYquR9Sc",
        "outputId": "2be3d347-6995-4a18-cabd-982e46eb7d33"
      },
      "execution_count": 18,
      "outputs": [
        {
          "output_type": "stream",
          "name": "stdout",
          "text": [
            "\n",
            "Running clustering with: KMeans\n",
            "[4 4 4 9 1 4 9 9 4 4 5 9 9 9 9 4 4 9 9 3 3 3 4 4 9 9 5 9 4 4 9 5 9 9 9 4 4\n",
            " 9 9 9 5 9 4 4 9 9 3 3 4 4 3 3 3 9 4 4 3 3 9 3 9 4 4 3 9 9 9 3 4 4 3 3 3 3\n",
            " 3 4 4 3 3 9 3 3 1 3 3 4 4 4 4 9 3 3 3 4 4 3 3 3 3 3 4 4 3 3 3 3 3 4 4 3 3\n",
            " 3 3 3 4 1 2 2 2 2 2 5 1 2 2 8 5 0 5 1 2 2 5 1 2 2 2 2 2 5 1 2 2 8 2 8 5 1\n",
            " 2 2 8 8 8 5 1 2 8 2 2 0 5 1 2 2 8 2 5 4 1 8 0 2 8 0 5 7 0 8 0 5 5 0 0 0 0\n",
            " 0 5 5 0 0 0 0 0 5 5 0 0 5 1 0 0 0 7 1 1 0 0 0 2 0 5 1 2 2 2 2 8 1 1 2 2 2\n",
            " 2 8 1 1 2 2 2 2 8 5 2 1 1 2 2 8 2 2 1 1 2 2 2 2 1 1 2 2 2 2 2 7 2 2 2 1 1\n",
            " 2 2 2 2 8 5 1 2 2 2 8 0 1 1 8 2 2 2 1 1 6 6 6 6 4 1 6 6 6 6 1 1 6 6 6 6 6\n",
            " 1 1 6 6 6 6 6 1 4 6 6 6 6 6 1 4 6 6 6 9 1 1 6 6 6 6 6 1 1 6 6 6 5 4 4 4 5\n",
            " 1 1 1 4]\n",
            "Silhouette Score: 0.1888295110481911\n",
            "Davies-Bouldin Score: 1.7434244441047695\n",
            "Calinski-Harabasz Score: 81.05449965897482\n",
            "total SCore 2.8527887234264764\n",
            "\n",
            "Running clustering with: Agglomerative\n",
            "[8 1 1 6 0 1 0 0 1 1 4 0 0 0 0 1 1 0 0 0 0 0 1 1 0 0 4 0 1 1 0 4 0 0 0 1 1\n",
            " 0 0 0 0 0 1 1 0 0 0 0 1 1 0 0 0 0 1 1 0 0 0 0 6 1 1 0 0 0 4 0 1 1 0 0 0 0\n",
            " 0 1 1 0 0 0 0 0 1 0 0 1 1 1 1 0 0 0 0 1 1 0 0 0 0 0 1 1 0 0 0 0 0 1 1 0 0\n",
            " 0 0 0 1 6 2 2 2 2 2 6 6 2 2 2 4 7 6 6 2 2 6 6 2 2 2 2 2 6 6 2 2 2 2 2 4 6\n",
            " 2 2 2 2 2 6 6 2 2 2 2 2 4 6 2 2 2 2 4 8 6 2 2 2 2 2 4 9 7 2 2 4 4 7 7 7 7\n",
            " 7 4 4 7 7 7 7 7 4 4 7 7 4 6 7 7 7 9 6 6 2 2 2 2 2 6 6 2 5 2 2 2 6 6 2 2 2\n",
            " 2 2 6 6 2 2 2 2 2 4 2 6 6 2 2 2 2 2 6 6 2 2 2 2 6 6 5 2 2 2 2 9 2 2 2 6 6\n",
            " 2 2 2 2 2 6 6 5 2 2 2 2 6 6 2 2 2 2 6 6 3 3 3 3 1 6 3 3 3 3 6 6 3 3 3 3 3\n",
            " 6 1 3 5 3 3 3 6 1 3 3 3 3 3 1 1 3 3 3 5 1 1 3 3 3 3 3 1 1 3 3 3 4 8 8 1 4\n",
            " 6 6 6 8]\n",
            "Silhouette Score: 0.21506167345844876\n",
            "Davies-Bouldin Score: 1.4150683146774594\n",
            "Calinski-Harabasz Score: 78.95519615286356\n",
            "total SCore 3.181459788480156\n",
            "\n",
            "Running clustering with: DBSCAN\n",
            "[-1  0  0 -1  1  0  1  1  0  0 -1 -1 -1 -1 -1  0  0  1 -1  1  1  1  0  0\n",
            " -1 -1 -1  1  0  0 -1 -1 -1 -1 -1  0  0  1  1  1 -1  1  0  0  1  1  1 -1\n",
            "  0  0  1 -1 -1 -1  0  0  1  1 -1  1 -1  0  0  1 -1  1 -1  1  0  0  1  1\n",
            "  1 -1  1  0  0  1 -1 -1 -1  1  0 -1 -1 -1  0  0  0 -1  1  1 -1  0  0 -1\n",
            "  1  1 -1  1  0  0  1 -1  1  1 -1  0  0 -1  1 -1 -1 -1  0  2  3  3  3 -1\n",
            " -1  2  2 -1 -1 -1 -1  4  2  2 -1 -1  2  2 -1  3  3  3 -1  2  2 -1 -1 -1\n",
            "  3 -1 -1  2  3  3 -1 -1 -1 -1  2 -1 -1  3  3 -1  2  2  3 -1 -1  3 -1 -1\n",
            "  2 -1 -1 -1 -1 -1  2 -1 -1 -1  4  2  2  4  4 -1  4  4  2  2  4 -1  4  4\n",
            "  4  2  2  4 -1  2  2  4 -1  4 -1  2  2 -1 -1 -1  4 -1 -1  2  3 -1 -1 -1\n",
            " -1  2 -1 -1  3 -1 -1 -1 -1  2  3  3  3 -1 -1 -1  3  2  2  3  3 -1  3 -1\n",
            "  2  2  3  3 -1 -1 -1  2 -1 -1  3 -1 -1 -1 -1 -1  3 -1 -1 -1 -1  3  3 -1\n",
            " -1 -1 -1  3  3 -1 -1  2 -1 -1 -1  3  3  2 -1 -1 -1 -1 -1 -1 -1 -1 -1 -1\n",
            " -1  0 -1 -1 -1 -1 -1 -1  0  0 -1 -1 -1 -1 -1  0 -1  5 -1 -1 -1 -1  0 -1\n",
            " -1 -1 -1 -1  0  0  5  5 -1 -1 -1  0  0 -1 -1 -1 -1 -1 -1  0 -1  2  2  2\n",
            " -1]\n",
            "Silhouette Score: -0.02772100330028316\n",
            "Davies-Bouldin Score: 2.3795720914163345\n",
            "Calinski-Harabasz Score: 35.327906331751436\n",
            "total SCore 1.185293120672037\n",
            "\n",
            "Running clustering with: GMM\n",
            "[8 8 8 0 7 8 0 0 8 8 0 0 0 0 0 8 8 0 0 5 5 5 2 8 0 0 3 0 8 8 0 3 0 0 0 8 8\n",
            " 0 0 0 0 0 2 2 0 0 5 5 2 2 5 5 5 0 2 2 5 5 0 5 0 2 2 5 0 0 0 5 2 2 5 5 5 5\n",
            " 5 2 2 5 5 0 5 5 2 5 5 2 8 2 8 0 5 5 5 2 2 5 5 5 5 5 2 2 5 5 5 5 5 2 2 5 5\n",
            " 5 5 5 2 7 1 1 1 1 1 7 7 1 1 1 3 6 7 7 1 1 7 7 1 1 1 1 1 7 7 1 1 1 1 1 3 7\n",
            " 1 1 1 1 1 3 7 1 1 1 1 6 3 7 1 1 1 1 3 8 7 1 6 1 6 6 3 9 6 1 6 3 3 6 6 6 6\n",
            " 6 3 3 6 6 6 6 6 3 3 6 6 3 7 6 6 6 9 7 7 6 6 6 1 6 3 7 1 1 1 1 1 7 7 1 1 1\n",
            " 1 1 7 7 1 1 1 1 1 7 1 7 7 1 1 1 1 1 7 7 1 1 1 1 7 7 1 1 1 1 1 9 1 1 1 7 7\n",
            " 1 1 1 1 1 3 7 1 1 1 1 6 7 7 1 1 1 1 7 2 4 4 4 4 2 2 4 4 4 4 7 2 4 4 4 4 4\n",
            " 7 2 4 4 4 4 4 2 2 4 4 4 4 4 2 2 4 4 4 0 2 2 4 4 4 4 4 2 2 4 4 4 3 8 8 8 3\n",
            " 7 7 7 8]\n",
            "Silhouette Score: 0.18064075979015703\n",
            "Davies-Bouldin Score: 1.604589673451553\n",
            "Calinski-Harabasz Score: 82.64588446781752\n",
            "total SCore 3.0026433131327432\n"
          ]
        }
      ]
    },
    {
      "cell_type": "markdown",
      "source": [
        "Internal evaluation"
      ],
      "metadata": {
        "id": "qKWY4dCAT71q"
      }
    },
    {
      "cell_type": "code",
      "source": [
        "# Calculate the Silhouette Score\n",
        "SC_score = silhouette_score(vectorized_day_dataset_no_nans, cluster_labels)\n",
        "# Silhouette Score measures the quality of clusters, higher values indicate better separation.\n",
        "\n",
        "# Calculate the Davies-Bouldin Score\n",
        "DB_score = davies_bouldin_score(vectorized_day_dataset_no_nans, cluster_labels)\n",
        "# Davies-Bouldin Score measures the average similarity between each cluster and its most similar cluster, lower values indicate better separation.\n",
        "\n",
        "# Calculate the Calinski-Harabasz Score\n",
        "CH_score = calinski_harabasz_score(vectorized_day_dataset_no_nans, cluster_labels)\n",
        "# Calinski-Harabasz Score measures the ratio of between-cluster variance to within-cluster variance, higher values indicate better separation.\n",
        "\n",
        "# Print the computed cluster quality scores\n",
        "print('Silhouette Score:', SC_score)\n",
        "print('Davies-Bouldin Score:', DB_score)\n",
        "print('Calinski-Harabasz Score:', CH_score)"
      ],
      "metadata": {
        "colab": {
          "base_uri": "https://localhost:8080/"
        },
        "id": "ckoogyuJT4co",
        "outputId": "6fd01a3e-669f-4e9d-abb6-a2bb9f9adb08"
      },
      "execution_count": 13,
      "outputs": [
        {
          "output_type": "stream",
          "name": "stdout",
          "text": [
            "Silhouette Score: 0.21506167345844876\n",
            "Davies-Bouldin Score: 1.4150683146774594\n",
            "Calinski-Harabasz Score: 78.95519615286356\n"
          ]
        }
      ]
    },
    {
      "cell_type": "markdown",
      "source": [
        "not used at the moment"
      ],
      "metadata": {
        "id": "Owns8xyin4cF"
      }
    },
    {
      "cell_type": "code",
      "source": [
        "def evaluate_clustering(method, model, X_train, X_test, params):\n",
        "    labels = None\n",
        "    if method == \"GMM\":\n",
        "        model.fit(X_train)\n",
        "        labels = model.predict(X_train)\n",
        "    else:\n",
        "        labels = model.fit_predict(X_train)\n",
        "\n",
        "    if len(np.unique(labels)) > 1 and np.any(labels != -1):\n",
        "        sil = silhouette_score(X_train, labels)\n",
        "        db  = davies_bouldin_score(X_train, labels)\n",
        "        ch  = calinski_harabasz_score(X_train, labels)\n",
        "    else:\n",
        "        sil, db, ch = np.nan, np.nan, np.nan\n",
        "\n",
        "    # Cluster-Zentren bestimmen\n",
        "    if method == \"GMM\":\n",
        "        unique = np.unique(labels)\n",
        "        centroids = np.vstack([X_train[labels == u].mean(axis=0) for u in unique])\n",
        "        test_labels = model.predict(X_test)\n",
        "    elif method == \"DBSCAN\":\n",
        "        unique = np.unique(labels)\n",
        "        centroids = {u: X_train[labels == u].mean(axis=0) for u in unique if u != -1}\n",
        "        global_mean = X_train.mean(axis=0)\n",
        "        preds = []\n",
        "        for x in X_test:\n",
        "            if len(centroids) == 0:\n",
        "                preds.append(global_mean)\n",
        "            else:\n",
        "                dists = {l: np.linalg.norm(x - c) for l, c in centroids.items()}\n",
        "                nearest = min(dists, key=dists.get)\n",
        "                preds.append(centroids[nearest])\n",
        "        preds = np.vstack(preds)\n",
        "    else:\n",
        "        unique = np.unique(labels)\n",
        "        centroids = np.vstack([X_train[labels == u].mean(axis=0) for u in unique])\n",
        "        preds = []\n",
        "        for x in X_test:\n",
        "            dists = np.linalg.norm(centroids - x, axis=1)\n",
        "            nearest = np.argmin(dists)\n",
        "            preds.append(centroids[nearest])\n",
        "        preds = np.vstack(preds)\n",
        "\n",
        "    if method != \"DBSCAN\":\n",
        "        preds = np.vstack([centroids[list(unique).index(l)] for l in test_labels]) if method == \"GMM\" else preds\n",
        "\n",
        "    # external metrics\n",
        "    rmse = math.sqrt(mean_squared_error(X_test, preds))\n",
        "    mae  = mean_absolute_error(X_test, preds)\n",
        "\n",
        "\n",
        "    results.append({\n",
        "        \"Method\": method,\n",
        "        \"Params\": params,\n",
        "        \"Silhouette\": sil,\n",
        "        \"DaviesBouldin\": db,\n",
        "        \"CalinskiHarabasz\": ch,\n",
        "        \"RMSE_Test\": rmse,\n",
        "        \"MAE_Test\": mae\n",
        "    })\n"
      ],
      "metadata": {
        "id": "0tJznjvnvZC6"
      },
      "execution_count": null,
      "outputs": []
    }
  ]
}