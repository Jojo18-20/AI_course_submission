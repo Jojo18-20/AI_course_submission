{
  "nbformat": 4,
  "nbformat_minor": 0,
  "metadata": {
    "colab": {
      "provenance": [],
      "authorship_tag": "ABX9TyMJ7t4G+pI+Ghgt8ssjqOL1",
      "include_colab_link": true
    },
    "kernelspec": {
      "name": "python3",
      "display_name": "Python 3"
    },
    "language_info": {
      "name": "python"
    }
  },
  "cells": [
    {
      "cell_type": "markdown",
      "metadata": {
        "id": "view-in-github",
        "colab_type": "text"
      },
      "source": [
        "<a href=\"https://colab.research.google.com/github/Jojo18-20/AI_course_submission/blob/main/modul5_assigment3_submission.ipynb\" target=\"_parent\"><img src=\"https://colab.research.google.com/assets/colab-badge.svg\" alt=\"Open In Colab\"/></a>"
      ]
    },
    {
      "cell_type": "markdown",
      "source": [
        "Johanna Schaefer -Module 5- Assigment 3"
      ],
      "metadata": {
        "id": "dmmbhZARjHz2"
      }
    },
    {
      "cell_type": "code",
      "source": [
        "import pandas as pd\n",
        "import numpy as np\n",
        "from sklearn.cluster import KMeans, AgglomerativeClustering, DBSCAN\n",
        "from sklearn.mixture import GaussianMixture\n",
        "from sklearn.metrics import calinski_harabasz_score, silhouette_score, davies_bouldin_score\n",
        "from sklearn.model_selection import train_test_split\n",
        "from sklearn.metrics import mean_squared_error, mean_absolute_error\n",
        "import math\n",
        "from sklearn.neighbors import NearestNeighbors\n",
        "import sklearn.metrics.pairwise as dis_lib\n"
      ],
      "metadata": {
        "id": "YzD0zO1ePGX5"
      },
      "execution_count": 41,
      "outputs": []
    },
    {
      "cell_type": "code",
      "execution_count": 2,
      "metadata": {
        "id": "uZb6d9ibjE_2"
      },
      "outputs": [],
      "source": [
        "data_df = pd.read_csv(\"dataset_exercise_5_clustering_highway_traffic.csv\",sep=\";\")"
      ]
    },
    {
      "cell_type": "code",
      "source": [
        "# Sort the DataFrame 'data_df' by columns \"Date\" and \"Interval_5\"\n",
        "data_df.sort_values([\"Date\", \"Interval_5\"])\n",
        "\n",
        "# Extract unique dates from the sorted DataFrame\n",
        "days = np.unique(data_df[['Date']].values.ravel())\n",
        "# Calculate the total number of unique days\n",
        "ndays = len(days)\n",
        "\n",
        "# Group the DataFrame 'data_df' by the \"Date\" column\n",
        "day_subsets_df = data_df.groupby([\"Date\"])\n",
        "\n",
        "# Define the total number of 5-minute intervals in a day\n",
        "nintvals = 288\n",
        "\n",
        "# Create a matrix 'vectorized_day_dataset' filled with NaN values\n",
        "vectorized_day_dataset = np.zeros((ndays, nintvals))\n",
        "vectorized_day_dataset.fill(np.nan)\n",
        "\n",
        "# Loop through each unique day\n",
        "for i in range(0, ndays):\n",
        "    # Get the DataFrame corresponding to the current day\n",
        "    df_t = day_subsets_df.get_group(days[i])\n",
        "\n",
        "    # Loop through each row in the current day's DataFrame\n",
        "    for j in range(len(df_t)):\n",
        "        # Get the current day's DataFrame\n",
        "        df_t = day_subsets_df.get_group(days[i])\n",
        "\n",
        "        # Extract the \"Interval_5\" and \"flow\" values and populate 'vectorized_day_dataset'\n",
        "        vectorized_day_dataset[i, df_t.iloc[j][\"Interval_5\"]] = df_t.iloc[j][\"flow\"]\n",
        "\n",
        "# Print the resulting 'vectorized_day_dataset'\n",
        "print(vectorized_day_dataset)"
      ],
      "metadata": {
        "colab": {
          "base_uri": "https://localhost:8080/"
        },
        "id": "6hGymtO3PtC5",
        "outputId": "9cd672dd-573d-4b36-9110-da8ccd024507"
      },
      "execution_count": 3,
      "outputs": [
        {
          "output_type": "stream",
          "name": "stderr",
          "text": [
            "/tmp/ipython-input-2050002240.py:22: FutureWarning: When grouping with a length-1 list-like, you will need to pass a length-1 tuple to get_group in a future version of pandas. Pass `(name,)` instead of `name` to silence this warning.\n",
            "  df_t = day_subsets_df.get_group(days[i])\n",
            "/tmp/ipython-input-2050002240.py:27: FutureWarning: When grouping with a length-1 list-like, you will need to pass a length-1 tuple to get_group in a future version of pandas. Pass `(name,)` instead of `name` to silence this warning.\n",
            "  df_t = day_subsets_df.get_group(days[i])\n"
          ]
        },
        {
          "output_type": "stream",
          "name": "stdout",
          "text": [
            "[[ 39.  18.  26. ...  32.  39.  34.]\n",
            " [ 30.  32.  27. ...  44.  41.  39.]\n",
            " [ 36.  44.  52. ...  50.  45.  23.]\n",
            " ...\n",
            " [ 20.  34.  31. ...  38.  42.  36.]\n",
            " [ 36.  40.  25. ...  38.  56.  35.]\n",
            " [ 33.  32.  34. ... 130. 129. 117.]]\n"
          ]
        }
      ]
    },
    {
      "cell_type": "markdown",
      "source": [
        "Data exploration"
      ],
      "metadata": {
        "id": "o8ZWvjbBQjwz"
      }
    },
    {
      "cell_type": "code",
      "source": [
        "print('number of nans',np.sum(np.isnan(vectorized_day_dataset)))\n",
        "print('rate of nans',np.sum(np.isnan(vectorized_day_dataset))/(ndays*nintvals))"
      ],
      "metadata": {
        "colab": {
          "base_uri": "https://localhost:8080/"
        },
        "id": "ccevNPstQciS",
        "outputId": "50d4e2cf-6490-43c4-e6af-697f2791ce5c"
      },
      "execution_count": 4,
      "outputs": [
        {
          "output_type": "stream",
          "name": "stdout",
          "text": [
            "number of nans 277\n",
            "rate of nans 0.0026350837138508373\n"
          ]
        }
      ]
    },
    {
      "cell_type": "code",
      "source": [
        "nans_per_time = np.sum(np.isnan(vectorized_day_dataset),0)\n",
        "print(nans_per_time.shape)\n",
        "\n",
        "import matplotlib.pyplot as plt\n",
        "\n",
        "fig, ax = plt.subplots()\n",
        "# Create an array 'x_axis' representing the 5-minute intervals\n",
        "x_axis = np.arange(0, nintvals, 1, dtype=int)\n",
        "# Initialize an empty list 'x_axis_hours' to store time values in hours\n",
        "x_axis_hours = []\n",
        "# Convert interval indices to hours and append them to 'x_axis_hours'\n",
        "for i in range(0, len(x_axis)):\n",
        "  x_axis_hours.append(float(x_axis[i]*5)/60)\n",
        "ax.bar(x_axis_hours,height=nans_per_time)\n",
        "\n",
        "\n",
        "ax.set_ylabel('number of missing values')\n",
        "ax.set_xlabel('5-minute intervals')\n",
        "ax.set_title('Time profile of missing values')\n",
        "\n",
        "plt.show()"
      ],
      "metadata": {
        "colab": {
          "base_uri": "https://localhost:8080/",
          "height": 489
        },
        "id": "WxHH511ERo2f",
        "outputId": "f6d9edbe-819e-429c-9c79-f07bc402f915"
      },
      "execution_count": 5,
      "outputs": [
        {
          "output_type": "stream",
          "name": "stdout",
          "text": [
            "(288,)\n"
          ]
        },
        {
          "output_type": "display_data",
          "data": {
            "text/plain": [
              "<Figure size 640x480 with 1 Axes>"
            ],
            "image/png": "[encoded data removed]"
          },
          "metadata": {}
        }
      ]
    },
    {
      "cell_type": "code",
      "source": [
        "nans_per_day = np.sum(np.isnan(vectorized_day_dataset),1)\n",
        "print('number of days with missing value',np.size(np.where(nans_per_day > 0),1))"
      ],
      "metadata": {
        "colab": {
          "base_uri": "https://localhost:8080/"
        },
        "id": "yu0BHrkiRs0k",
        "outputId": "c439cfa2-baab-47a0-9298-cc63b9f685b5"
      },
      "execution_count": 6,
      "outputs": [
        {
          "output_type": "stream",
          "name": "stdout",
          "text": [
            "number of days with missing value 28\n"
          ]
        }
      ]
    },
    {
      "cell_type": "code",
      "source": [
        "print(np.where(nans_per_day > 0)[0])\n",
        "vectorized_day_dataset_no_nans = vectorized_day_dataset[np.where(nans_per_day == 0)[0],:]\n",
        "days_not_nans = days[np.where(nans_per_day == 0)[0]]"
      ],
      "metadata": {
        "colab": {
          "base_uri": "https://localhost:8080/"
        },
        "id": "ybdiiGHTSMnY",
        "outputId": "6ad1602c-0cee-49e0-c91f-11b86df6dd2f"
      },
      "execution_count": 10,
      "outputs": [
        {
          "output_type": "stream",
          "name": "stdout",
          "text": [
            "[ 25  49  52  86  87  88 137 138 139 185 187 207 208 209 217 247 248 249\n",
            " 250 251 266 275 276 277 299 306 311 341]\n"
          ]
        }
      ]
    },
    {
      "cell_type": "code",
      "source": [
        "X_train, X_test = train_test_split(vectorized_day_dataset_no_nans, test_size=0.2, random_state=42, shuffle=True)\n"
      ],
      "metadata": {
        "id": "TklZbwZtdN8R"
      },
      "execution_count": 22,
      "outputs": []
    },
    {
      "cell_type": "markdown",
      "source": [
        "Clustering"
      ],
      "metadata": {
        "id": "iaFBAPDWR9ok"
      }
    },
    {
      "cell_type": "code",
      "source": [
        "\n",
        "min_samples = 5\n",
        "k = min_samples - 1  # k-th neighbor\n",
        "nbrs = NearestNeighbors(n_neighbors=k+1).fit(X_train)\n",
        "distances, indices = nbrs.kneighbors(X_train)\n",
        "\n",
        "\n",
        "k_dist = np.sort(distances[:, k])\n",
        "\n",
        "# Plot\n",
        "plt.figure(figsize=(8,4))\n",
        "plt.plot(k_dist)\n",
        "plt.ylabel(f\"{k}-NN distance\")\n",
        "plt.xlabel(\"Points sorted by distance\")\n",
        "plt.title(f\"k-distance plot (k={k})\")\n",
        "plt.grid()\n",
        "plt.show()\n",
        "\n",
        "# eps-Kandidaten: z.B. Percentiles um das \"Knie\"\n",
        "eps_candidates = np.percentile(k_dist, [70, 80, 85, 90, 95])\n",
        "print(\"eps candidates (use one near knee):\", eps_candidates)\n"
      ],
      "metadata": {
        "colab": {
          "base_uri": "https://localhost:8080/",
          "height": 427
        },
        "id": "SxSLV6ZHpc1f",
        "outputId": "ecb1bd82-d827-4abe-c715-8ca46511470b"
      },
      "execution_count": 36,
      "outputs": [
        {
          "output_type": "display_data",
          "data": {
            "text/plain": [
              "<Figure size 800x400 with 1 Axes>"
            ],
            "image/png": "[encoded data removed]"
          },
          "metadata": {}
        },
        {
          "output_type": "stream",
          "name": "stdout",
          "text": [
            "eps candidates (use one near knee): [634.95815532 697.25069788 759.74527291 838.19577559 935.05643724]\n"
          ]
        }
      ]
    },
    {
      "cell_type": "code",
      "source": [
        "def evaluate_clustering(method, model, X_train, X_test, params):\n",
        "    labels = None\n",
        "    if method == \"GMM\":\n",
        "        model.fit(X_train)\n",
        "        labels = model.predict(X_train)\n",
        "    else:\n",
        "        labels = model.fit_predict(X_train)\n",
        "\n",
        "    if len(np.unique(labels)) > 1 and np.any(labels != -1):\n",
        "        sil = silhouette_score(X_train, labels)\n",
        "        db  = davies_bouldin_score(X_train, labels)\n",
        "        ch  = calinski_harabasz_score(X_train, labels)\n",
        "    else:\n",
        "        sil, db, ch = np.nan, np.nan, np.nan\n",
        "\n",
        "    # Cluster-Zentren bestimmen\n",
        "    if method == \"GMM\":\n",
        "        unique = np.unique(labels)\n",
        "        centroids = np.vstack([X_train[labels == u].mean(axis=0) for u in unique])\n",
        "        test_labels = model.predict(X_test)\n",
        "    elif method == \"DBSCAN\":\n",
        "        unique = np.unique(labels)\n",
        "        centroids = {u: X_train[labels == u].mean(axis=0) for u in unique if u != -1}\n",
        "        global_mean = X_train.mean(axis=0)\n",
        "        preds = []\n",
        "        for x in X_test:\n",
        "            if len(centroids) == 0:\n",
        "                preds.append(global_mean)\n",
        "            else:\n",
        "                dists = {l: np.linalg.norm(x - c) for l, c in centroids.items()}\n",
        "                nearest = min(dists, key=dists.get)\n",
        "                preds.append(centroids[nearest])\n",
        "        preds = np.vstack(preds)\n",
        "    else:\n",
        "        unique = np.unique(labels)\n",
        "        centroids = np.vstack([X_train[labels == u].mean(axis=0) for u in unique])\n",
        "        preds = []\n",
        "        for x in X_test:\n",
        "            dists = np.linalg.norm(centroids - x, axis=1)\n",
        "            nearest = np.argmin(dists)\n",
        "            preds.append(centroids[nearest])\n",
        "        preds = np.vstack(preds)\n",
        "\n",
        "    if method != \"DBSCAN\":\n",
        "        preds = np.vstack([centroids[list(unique).index(l)] for l in test_labels]) if method == \"GMM\" else preds\n",
        "\n",
        "    # external metrics\n",
        "    rmse = math.sqrt(mean_squared_error(X_test, preds))\n",
        "    mae  = mean_absolute_error(X_test, preds)\n",
        "\n",
        "\n",
        "    results.append({\n",
        "        \"Method\": method,\n",
        "        \"Params\": params,\n",
        "        \"Silhouette\": sil,\n",
        "        \"DaviesBouldin\": db,\n",
        "        \"CalinskiHarabasz\": ch,\n",
        "        \"RMSE_Test\": rmse,\n",
        "        \"MAE_Test\": mae\n",
        "    })\n"
      ],
      "metadata": {
        "id": "0tJznjvnvZC6"
      },
      "execution_count": null,
      "outputs": []
    },
    {
      "cell_type": "code",
      "source": [
        "nans_per_day_test = np.sum(np.isnan(X_test), 1)\n",
        "#days_not_nans_eval = days_eval[np.where(nans_per_day_eval == 0)[0]]\n",
        "print(nans_per_day_test)\n",
        "X_train.shape\n",
        "X_test.shape\n",
        "vectorized_day_dataset_no_nans.shape"
      ],
      "metadata": {
        "colab": {
          "base_uri": "https://localhost:8080/"
        },
        "id": "qO2-Mes-0MSn",
        "outputId": "836b5601-c8d1-473d-d147-2f3c93ef24cf"
      },
      "execution_count": 48,
      "outputs": [
        {
          "output_type": "stream",
          "name": "stdout",
          "text": [
            "[0 0 0 0 0 0 0 0 0 0 0 0 0 0 0 0 0 0 0 0 0 0 0 0 0 0 0 0 0 0 0 0 0 0 0 0 0\n",
            " 0 0 0 0 0 0 0 0 0 0 0 0 0 0 0 0 0 0 0 0 0 0 0 0 0 0 0 0 0 0 0]\n"
          ]
        },
        {
          "output_type": "execute_result",
          "data": {
            "text/plain": [
              "(337, 288)"
            ]
          },
          "metadata": {},
          "execution_count": 48
        }
      ]
    },
    {
      "cell_type": "code",
      "source": [
        "def find_the_closest_centroid(centroids, new_day, from_interval: int, to_interval: int):\n",
        "    closest_centroid = None\n",
        "    closest_dist = None\n",
        "\n",
        "    for i in range(len(centroids)):\n",
        "        # nur den relevanten Zeitbereich vergleichen\n",
        "        ed_t = dis_lib.paired_distances(\n",
        "            centroids[i][:, from_interval:to_interval+1],\n",
        "            new_day[:, from_interval:to_interval+1],\n",
        "            metric='euclidean'\n",
        "        )\n",
        "\n",
        "        if closest_centroid is None or closest_dist > ed_t:\n",
        "            closest_centroid = i\n",
        "            closest_dist = ed_t\n",
        "\n",
        "    return closest_centroid\n",
        "\n",
        "def evaluate_clustering(method, model, X_train, X_test, params):\n",
        "    labels = None\n",
        "    if method == \"GMM\":\n",
        "        model.fit(X_train)\n",
        "        labels = model.predict(X_train)\n",
        "    else:\n",
        "        labels = model.fit_predict(X_train)\n",
        "\n",
        "    if len(np.unique(labels)) > 1 and np.any(labels != -1):\n",
        "        sil = silhouette_score(X_train, labels)\n",
        "        db  = davies_bouldin_score(X_train, labels)\n",
        "        ch  = calinski_harabasz_score(X_train, labels)\n",
        "    else:\n",
        "        sil, db, ch = np.nan, np.nan, np.nan\n",
        "\n",
        "    # Initialize a list to store centroid data\n",
        "    centroids = []\n",
        "    # Calculate centroids for each cluster\n",
        "    for i in np.unique(labels):\n",
        "      centroid = np.nanmean(X_train[np.where(labels == i)[0], :], 0).reshape(1, nintvals)\n",
        "      centroids.append(centroid)\n",
        "\n",
        "    # Define the number of past intervals to consider for classification\n",
        "    n_past_intervals_for_classification = 5\n",
        "\n",
        "    # Initialize variables to calculate accuracy metrics\n",
        "    total_mae = 0\n",
        "    total_mape = 0\n",
        "    prediction_counts = 0\n",
        "\n",
        "# Loop through each day in the evaluation dataset with no missing values\n",
        "    for i in range(0, X_test.shape[0]):\n",
        "        # Loop through intervals from n_past_intervals_for_classification to nintvals - 1\n",
        "        for j in range(n_past_intervals_for_classification, nintvals - 1):\n",
        "            # Find the closest centroid for the current data point\n",
        "            centroid_index = find_the_closest_centroid(centroids, X_test[i].reshape(1, nintvals), j - n_past_intervals_for_classification, j)\n",
        "\n",
        "            # Predict the value for the next interval\n",
        "            predicted_value = centroids[centroid_index][0, j + 1]\n",
        "\n",
        "            # Calculate Mean Absolute Error (MAE) and Mean Absolute Percentage Error (MAPE)\n",
        "            mae_t = abs(predicted_value - X_test[i][j + 1])\n",
        "            mape_t = abs(predicted_value - X_test[i][j + 1]) / float(X_test[i][j + 1])\n",
        "\n",
        "            # Accumulate MAE, MAPE, and count of predictions\n",
        "            total_mae += mae_t\n",
        "            total_mape += mape_t\n",
        "            prediction_counts += 1\n",
        "\n",
        "\n",
        "    results.append({\n",
        "        \"Method\": method,\n",
        "        \"Params\": params,\n",
        "        \"Silhouette\": sil,\n",
        "        \"DaviesBouldin\": db,\n",
        "        \"CalinskiHarabasz\": ch,\n",
        "        \"accuracy MAE\": total_mae / prediction_counts,\n",
        "        \"accuracy MAPE\": total_mape / prediction_counts\n",
        "    })\n"
      ],
      "metadata": {
        "id": "php1lp2hkfWj"
      },
      "execution_count": 52,
      "outputs": []
    },
    {
      "cell_type": "code",
      "source": [
        "results = []\n",
        "\n",
        "labels = None\n",
        "n_clusters = [2,4,6,8,10,12]  # Cluster\n",
        "\n",
        "for k in n_clusters:\n",
        "    # KMeans\n",
        "    km = KMeans(n_clusters=k, random_state=42)\n",
        "    evaluate_clustering(\"KMeans\", km, X_train, X_test, {\"n_clusters\": k})\n",
        "\n",
        "    # GMM\n",
        "    gmm = GaussianMixture(n_components=k, random_state=42)\n",
        "    evaluate_clustering(\"GMM\", gmm, X_train, X_test, {\"n_components\": k})\n",
        "\n",
        "    # Agglomerative\n",
        "    agg = AgglomerativeClustering(n_clusters=k)\n",
        "    evaluate_clustering(\"Agglomerative\", agg, X_train, X_test, {\"n_clusters\": k})\n",
        "\n",
        "    print(k,\"done\")\n",
        "\n",
        "# DBSCAN separate, eps und min_samples vary\n",
        "for eps in [400, 500, 600, 700, 800]:\n",
        "    for ms in [2,4,6]:\n",
        "        db = DBSCAN(eps=eps, min_samples=ms)\n",
        "        evaluate_clustering(\"DBSCAN\", db, X_train, X_test, {\"eps\": eps, \"min_samples\": ms})\n",
        "    print (eps, \"done\")\n",
        "\n"
      ],
      "metadata": {
        "colab": {
          "base_uri": "https://localhost:8080/"
        },
        "id": "lwdb-OYPlczq",
        "outputId": "9b12169d-6a63-49b4-9f54-70099edd1fb9"
      },
      "execution_count": 53,
      "outputs": [
        {
          "output_type": "stream",
          "name": "stdout",
          "text": [
            "2 done\n",
            "4 done\n",
            "6 done\n",
            "8 done\n",
            "10 done\n",
            "12 done\n",
            "400 done\n",
            "500 done\n",
            "600 done\n",
            "700 done\n",
            "800 done\n"
          ]
        }
      ]
    },
    {
      "cell_type": "code",
      "source": [
        "results_df = pd.DataFrame(results)\n",
        "print(results_df.sort_values(by=\"accuracy MAE\"))"
      ],
      "metadata": {
        "id": "Pb-ZQR8b7oFO",
        "outputId": "29506700-9d52-49da-d5c1-9afc772bf353",
        "colab": {
          "base_uri": "https://localhost:8080/"
        }
      },
      "execution_count": 54,
      "outputs": [
        {
          "output_type": "stream",
          "name": "stdout",
          "text": [
            "           Method                          Params  Silhouette  DaviesBouldin  \\\n",
            "17  Agglomerative              {'n_clusters': 12}    0.163210       1.762242   \n",
            "14  Agglomerative              {'n_clusters': 10}    0.166805       1.754096   \n",
            "16            GMM            {'n_components': 12}    0.169686       1.627302   \n",
            "15         KMeans              {'n_clusters': 12}    0.169686       1.627302   \n",
            "11  Agglomerative               {'n_clusters': 8}    0.191241       1.368608   \n",
            "13            GMM            {'n_components': 10}    0.194555       1.677786   \n",
            "12         KMeans              {'n_clusters': 10}    0.194555       1.677786   \n",
            "8   Agglomerative               {'n_clusters': 6}    0.225368       1.440012   \n",
            "9          KMeans               {'n_clusters': 8}    0.219234       1.750012   \n",
            "10            GMM             {'n_components': 8}    0.219234       1.750012   \n",
            "22         DBSCAN  {'eps': 500, 'min_samples': 4}   -0.102801       2.259884   \n",
            "21         DBSCAN  {'eps': 500, 'min_samples': 2}   -0.121310       2.067250   \n",
            "7             GMM             {'n_components': 6}    0.241551       1.532438   \n",
            "6          KMeans               {'n_clusters': 6}    0.241551       1.532438   \n",
            "23         DBSCAN  {'eps': 500, 'min_samples': 6}   -0.103757       2.351158   \n",
            "18         DBSCAN  {'eps': 400, 'min_samples': 2}   -0.249637       1.553986   \n",
            "5   Agglomerative               {'n_clusters': 4}    0.252118       1.380106   \n",
            "3          KMeans               {'n_clusters': 4}    0.245146       1.414883   \n",
            "4             GMM             {'n_components': 4}    0.245146       1.414883   \n",
            "19         DBSCAN  {'eps': 400, 'min_samples': 4}   -0.287480       2.180929   \n",
            "2   Agglomerative               {'n_clusters': 2}    0.319379       1.238962   \n",
            "1             GMM             {'n_components': 2}    0.294584       1.278613   \n",
            "0          KMeans               {'n_clusters': 2}    0.294584       1.278613   \n",
            "24         DBSCAN  {'eps': 600, 'min_samples': 2}   -0.157518       2.991498   \n",
            "25         DBSCAN  {'eps': 600, 'min_samples': 4}   -0.059745       3.487886   \n",
            "26         DBSCAN  {'eps': 600, 'min_samples': 6}   -0.060243       3.499382   \n",
            "30         DBSCAN  {'eps': 800, 'min_samples': 2}    0.085047       2.968499   \n",
            "31         DBSCAN  {'eps': 800, 'min_samples': 4}    0.185294       3.427537   \n",
            "32         DBSCAN  {'eps': 800, 'min_samples': 6}    0.179172       3.646242   \n",
            "29         DBSCAN  {'eps': 700, 'min_samples': 6}    0.124555       4.355834   \n",
            "28         DBSCAN  {'eps': 700, 'min_samples': 4}    0.127563       4.282309   \n",
            "27         DBSCAN  {'eps': 700, 'min_samples': 2}    0.127563       4.282309   \n",
            "20         DBSCAN  {'eps': 400, 'min_samples': 6}         NaN            NaN   \n",
            "\n",
            "    CalinskiHarabasz  accuracy MAE  accuracy MAPE  \n",
            "17         55.364644     18.615854       0.178702  \n",
            "14         62.297514     18.711587       0.181211  \n",
            "16         52.542429     19.074374       0.188933  \n",
            "15         52.542429     19.074374       0.188933  \n",
            "11         70.977072     19.634702       0.185659  \n",
            "13         57.943759     21.039471       0.359713  \n",
            "12         57.943759     21.039471       0.359713  \n",
            "8          85.952266     21.124394       0.204550  \n",
            "9          69.630585     21.692421       0.379314  \n",
            "10         69.630585     21.692421       0.379314  \n",
            "22         21.944283     22.011128       0.395025  \n",
            "21         18.763258     22.017846       0.395743  \n",
            "7          89.439136     22.699376       0.392503  \n",
            "6          89.439136     22.699376       0.392503  \n",
            "23         22.876012     22.713453       0.398897  \n",
            "18          5.181370     25.007260       0.392271  \n",
            "5         109.127362     25.029259       0.433639  \n",
            "3         111.005536     25.171197       0.426057  \n",
            "4         111.005536     25.171197       0.426057  \n",
            "19          4.215616     28.530487       0.452197  \n",
            "2         153.111337     32.223756       0.560662  \n",
            "1         139.719610     32.806622       0.556839  \n",
            "0         139.719610     32.806622       0.556839  \n",
            "24          7.222700     33.055108       0.574319  \n",
            "25          9.727381     36.065275       0.695088  \n",
            "26          9.696310     36.083243       0.695398  \n",
            "30          5.012530     37.087922       0.721107  \n",
            "31          8.250765     40.438428       0.753536  \n",
            "32          7.572344     40.660598       0.759837  \n",
            "29          7.244423     40.996400       0.774886  \n",
            "28          7.353145     41.077855       0.775555  \n",
            "27          7.353145     41.077855       0.775555  \n",
            "20               NaN     46.309271       0.844055  \n"
          ]
        }
      ]
    },
    {
      "cell_type": "code",
      "source": [
        "n_clusters = 10\n",
        "clusters = None\n",
        "\n",
        "clustering_methods = [\n",
        "    {\"name\": \"KMeans\", \"model\": KMeans(n_clusters=n_clusters, random_state=0, n_init=\"auto\")},\n",
        "    {\"name\": \"Agglomerative\", \"model\": AgglomerativeClustering(n_clusters=n_clusters, metric='euclidean', linkage='ward')},\n",
        "    {\"name\": \"DBSCAN\", \"model\": DBSCAN(eps=500, min_samples=2)},\n",
        "    {\"name\": \"GMM\", \"model\": GaussianMixture(n_components=n_clusters)}\n",
        "]\n",
        "\n",
        "for method in clustering_methods:\n",
        "    print(f\"\\nRunning clustering with: {method['name']}\")\n",
        "    model = method[\"model\"]\n",
        "\n",
        "    if method[\"name\"] == \"GMM\":\n",
        "        cluster_labels = model.fit(X_train).predict(X_train)\n",
        "    else:\n",
        "        clusters = model.fit(X_train)\n",
        "        cluster_labels = clusters.labels_\n",
        "    SC_score = silhouette_score(X_train, cluster_labels)\n",
        "    DB_score = davies_bouldin_score(X_train, cluster_labels)\n",
        "    CH_score = calinski_harabasz_score(X_train, cluster_labels)\n",
        "    total_score=SC_score-DB_score+np.log(CH_score+1)\n",
        "\n",
        "    print(cluster_labels)\n",
        "    print('Silhouette Score:', SC_score)\n",
        "    print('Davies-Bouldin Score:', DB_score)\n",
        "    print('Calinski-Harabasz Score:', CH_score)\n",
        "    print(\"total SCore\",total_score)\n"
      ],
      "metadata": {
        "colab": {
          "base_uri": "https://localhost:8080/"
        },
        "id": "N1EfF1zEgBFR",
        "outputId": "c7a73fca-adc2-461c-f774-d4b66b6d65c6"
      },
      "execution_count": 23,
      "outputs": [
        {
          "output_type": "stream",
          "name": "stdout",
          "text": [
            "\n",
            "Running clustering with: KMeans\n",
            "[1 7 9 8 9 2 7 9 7 2 2 6 6 1 9 7 7 9 7 7 4 8 7 7 7 2 1 6 7 7 1 7 8 7 3 2 9\n",
            " 9 1 2 1 6 1 8 7 2 7 7 8 6 2 9 8 7 6 6 8 8 2 2 9 4 8 3 9 8 8 7 1 3 2 7 8 9\n",
            " 9 7 7 3 6 7 6 7 7 9 7 1 7 9 2 7 6 9 8 9 9 7 1 6 6 7 6 7 9 0 3 9 5 7 7 7 6\n",
            " 6 8 3 8 5 1 6 9 9 6 7 2 1 8 9 1 2 8 7 2 3 3 7 7 7 7 9 8 8 9 6 9 7 2 2 6 7\n",
            " 7 4 3 7 6 7 3 6 1 6 1 7 6 1 9 0 8 7 8 3 7 3 7 8 6 5 2 9 6 6 2 9 7 9 9 9 2\n",
            " 7 7 1 4 7 3 7 9 3 2 2 7 2 6 7 7 6 7 7 7 6 7 9 6 7 6 9 3 9 6 7 8 8 3 3 8 5\n",
            " 2 7 8 8 9 9 2 3 7 4 3 7 1 7 1 8 2 6 9 9 7 2 1 7 7 8 6 2 7 6 6 9 6 7 7 7 8\n",
            " 3 7 9 3 8 6 8 8 7 8]\n",
            "Silhouette Score: 0.1831182887186136\n",
            "Davies-Bouldin Score: 1.6680273638821574\n",
            "Calinski-Harabasz Score: 57.43904653634981\n",
            "total SCore 2.583075196328327\n",
            "\n",
            "Running clustering with: Agglomerative\n",
            "[6 0 1 7 1 7 0 1 0 7 7 4 3 6 1 9 0 1 0 0 5 8 0 9 0 7 6 4 0 0 6 0 8 0 2 1 1\n",
            " 1 6 7 6 4 6 8 9 7 0 0 8 4 7 1 8 0 3 4 8 7 1 7 1 9 8 2 1 8 8 9 6 2 7 0 8 1\n",
            " 1 9 9 2 4 0 4 0 0 1 0 6 9 1 7 0 4 1 8 1 1 0 6 4 4 0 4 0 1 0 2 1 3 0 9 0 4\n",
            " 3 8 2 8 4 6 3 1 1 3 9 7 6 8 1 6 1 8 9 7 2 2 9 0 0 0 1 8 8 1 3 1 0 7 7 4 9\n",
            " 0 7 2 0 4 0 2 4 6 4 6 0 3 6 1 0 8 0 8 2 0 6 9 8 4 4 7 1 3 4 7 1 9 1 1 1 7\n",
            " 0 0 6 4 0 2 0 1 2 7 7 9 7 4 0 9 4 0 9 0 4 0 1 4 9 3 1 2 1 3 0 8 7 2 2 8 9\n",
            " 7 9 8 8 1 1 7 2 9 1 2 9 6 0 6 8 1 3 1 1 9 7 6 0 0 8 4 1 0 3 4 1 4 0 0 9 8\n",
            " 2 9 1 2 8 3 8 8 9 8]\n",
            "Silhouette Score: 0.16680503061573668\n",
            "Davies-Bouldin Score: 1.754095988410591\n",
            "Calinski-Harabasz Score: 62.29751424468132\n",
            "total SCore 2.560555101147897\n",
            "\n",
            "Running clustering with: DBSCAN\n",
            "[ 0  1  2 -1  2 -1 -1  2  1  3 -1 -1  4  0  2 -1 -1 -1  1 -1 -1 -1 -1 -1\n",
            "  1 -1  0  5  1 -1  6  1  7  1  6  7  2 -1  6 -1  6 -1  0  7 -1 -1 -1  8\n",
            "  7 -1  9  2  7  1 -1 -1  7 -1 -1 -1 -1 -1 -1  6  2  7  7 -1  6  6  9  1\n",
            "  7  2  2 -1 -1  6 -1 -1 -1  1  8 -1  1  0 -1  2  9  1  5  2 -1 -1  2  1\n",
            " -1 -1  5 -1 -1  1  2 -1  6  2 -1  1 -1 -1 -1  4  7  6 -1 -1  6  4  2  2\n",
            "  4 -1  3  0  7 -1 -1  2 -1 -1 -1  6  6 -1 -1  1 -1  2 -1 -1 -1 -1  2 -1\n",
            "  9 -1 -1 -1  1 -1 -1 -1 -1 -1 -1 -1  0 -1  6  1  4 -1 -1 -1 -1 -1 -1  6\n",
            " -1  6 -1 -1 -1 -1 -1  2 -1 -1  9 -1 -1  2  7  2 -1 -1  1 -1 -1 -1  6  1\n",
            "  2  6 -1 -1 -1 -1 -1 -1 -1 -1  1 -1  1 -1 -1 -1 -1 -1  4  2  6  2  4 -1\n",
            "  7 -1  6  6 -1 -1 -1 -1  7 -1 -1  2 -1  6 -1 -1  6 -1  0  1  6  7  2 -1\n",
            "  2  2 -1 -1  6  1 -1  7 -1  2  8  4 -1 -1 -1  1 -1 -1  7  6 -1  2 -1  7\n",
            "  4  7 -1 -1  7]\n",
            "Silhouette Score: -0.12131017809012988\n",
            "Davies-Bouldin Score: 2.0672495290049664\n",
            "Calinski-Harabasz Score: 18.763257834110224\n",
            "total SCore 0.7952648417823149\n",
            "\n",
            "Running clustering with: GMM\n",
            "[9 0 4 5 4 5 0 4 0 5 5 6 6 9 4 7 0 1 0 0 1 5 0 7 0 1 9 6 8 8 9 0 2 8 3 5 4\n",
            " 4 9 5 9 6 9 2 8 1 8 8 2 6 5 4 2 8 1 6 2 2 1 5 4 7 2 3 4 2 2 8 9 3 5 0 2 4\n",
            " 4 7 8 3 6 0 6 8 0 1 0 9 7 4 5 0 6 4 2 4 4 0 9 6 6 8 6 0 4 0 3 4 1 0 8 0 6\n",
            " 1 2 3 2 6 9 1 1 4 1 8 5 9 2 4 9 1 2 0 5 3 3 8 0 0 8 4 2 2 4 8 4 0 5 5 6 0\n",
            " 0 1 3 0 6 0 3 6 9 6 9 0 1 9 4 0 2 0 2 3 0 3 7 2 6 6 5 4 1 6 5 4 7 4 4 4 5\n",
            " 0 0 9 6 8 3 0 4 3 5 5 7 5 6 0 8 6 0 0 0 6 0 1 6 8 1 4 3 4 1 0 2 5 3 3 2 0\n",
            " 5 8 2 5 4 4 5 3 7 1 3 0 9 0 9 2 1 1 4 4 7 5 9 0 8 2 6 1 8 1 6 4 6 0 0 7 2\n",
            " 3 0 4 3 2 1 2 2 8 2]\n",
            "Silhouette Score: 0.1332449147173444\n",
            "Davies-Bouldin Score: 2.0482687095430996\n",
            "Calinski-Harabasz Score: 58.99456571621947\n",
            "total SCore 2.179230191898167\n"
          ]
        }
      ]
    },
    {
      "cell_type": "code",
      "source": [
        "n_clusters = 10\n",
        "clusters = None\n",
        "\n",
        "clustering_methods = [\n",
        "    {\"name\": \"KMeans\", \"model\": KMeans(n_clusters=n_clusters, random_state=0, n_init=\"auto\")},\n",
        "    {\"name\": \"Agglomerative\", \"model\": AgglomerativeClustering(n_clusters=n_clusters, metric='euclidean', linkage='ward')},\n",
        "    {\"name\": \"DBSCAN\", \"model\": DBSCAN(eps=500, min_samples=2)},\n",
        "    {\"name\": \"GMM\", \"model\": GaussianMixture(n_components=n_clusters)}\n",
        "]\n",
        "\n",
        "for method in clustering_methods:\n",
        "    print(f\"\\nRunning clustering with: {method['name']}\")\n",
        "    model = method[\"model\"]\n",
        "\n",
        "    if method[\"name\"] == \"GMM\":\n",
        "        cluster_labels = model.fit(vectorized_day_dataset_no_nans).predict(vectorized_day_dataset_no_nans)\n",
        "    else:\n",
        "        clusters = model.fit(vectorized_day_dataset_no_nans)\n",
        "        cluster_labels = clusters.labels_\n",
        "    SC_score = silhouette_score(vectorized_day_dataset_no_nans, cluster_labels)\n",
        "    DB_score = davies_bouldin_score(vectorized_day_dataset_no_nans, cluster_labels)\n",
        "    CH_score = calinski_harabasz_score(vectorized_day_dataset_no_nans, cluster_labels)\n",
        "    total_score=SC_score-DB_score+np.log(CH_score+1)\n",
        "\n",
        "    print(cluster_labels)\n",
        "    print('Silhouette Score:', SC_score)\n",
        "    print('Davies-Bouldin Score:', DB_score)\n",
        "    print('Calinski-Harabasz Score:', CH_score)\n",
        "    print(\"total SCore\",total_score)\n"
      ],
      "metadata": {
        "colab": {
          "base_uri": "https://localhost:8080/"
        },
        "id": "wpG5LYquR9Sc",
        "outputId": "2be3d347-6995-4a18-cabd-982e46eb7d33"
      },
      "execution_count": 18,
      "outputs": [
        {
          "output_type": "stream",
          "name": "stdout",
          "text": [
            "\n",
            "Running clustering with: KMeans\n",
            "[4 4 4 9 1 4 9 9 4 4 5 9 9 9 9 4 4 9 9 3 3 3 4 4 9 9 5 9 4 4 9 5 9 9 9 4 4\n",
            " 9 9 9 5 9 4 4 9 9 3 3 4 4 3 3 3 9 4 4 3 3 9 3 9 4 4 3 9 9 9 3 4 4 3 3 3 3\n",
            " 3 4 4 3 3 9 3 3 1 3 3 4 4 4 4 9 3 3 3 4 4 3 3 3 3 3 4 4 3 3 3 3 3 4 4 3 3\n",
            " 3 3 3 4 1 2 2 2 2 2 5 1 2 2 8 5 0 5 1 2 2 5 1 2 2 2 2 2 5 1 2 2 8 2 8 5 1\n",
            " 2 2 8 8 8 5 1 2 8 2 2 0 5 1 2 2 8 2 5 4 1 8 0 2 8 0 5 7 0 8 0 5 5 0 0 0 0\n",
            " 0 5 5 0 0 0 0 0 5 5 0 0 5 1 0 0 0 7 1 1 0 0 0 2 0 5 1 2 2 2 2 8 1 1 2 2 2\n",
            " 2 8 1 1 2 2 2 2 8 5 2 1 1 2 2 8 2 2 1 1 2 2 2 2 1 1 2 2 2 2 2 7 2 2 2 1 1\n",
            " 2 2 2 2 8 5 1 2 2 2 8 0 1 1 8 2 2 2 1 1 6 6 6 6 4 1 6 6 6 6 1 1 6 6 6 6 6\n",
            " 1 1 6 6 6 6 6 1 4 6 6 6 6 6 1 4 6 6 6 9 1 1 6 6 6 6 6 1 1 6 6 6 5 4 4 4 5\n",
            " 1 1 1 4]\n",
            "Silhouette Score: 0.1888295110481911\n",
            "Davies-Bouldin Score: 1.7434244441047695\n",
            "Calinski-Harabasz Score: 81.05449965897482\n",
            "total SCore 2.8527887234264764\n",
            "\n",
            "Running clustering with: Agglomerative\n",
            "[8 1 1 6 0 1 0 0 1 1 4 0 0 0 0 1 1 0 0 0 0 0 1 1 0 0 4 0 1 1 0 4 0 0 0 1 1\n",
            " 0 0 0 0 0 1 1 0 0 0 0 1 1 0 0 0 0 1 1 0 0 0 0 6 1 1 0 0 0 4 0 1 1 0 0 0 0\n",
            " 0 1 1 0 0 0 0 0 1 0 0 1 1 1 1 0 0 0 0 1 1 0 0 0 0 0 1 1 0 0 0 0 0 1 1 0 0\n",
            " 0 0 0 1 6 2 2 2 2 2 6 6 2 2 2 4 7 6 6 2 2 6 6 2 2 2 2 2 6 6 2 2 2 2 2 4 6\n",
            " 2 2 2 2 2 6 6 2 2 2 2 2 4 6 2 2 2 2 4 8 6 2 2 2 2 2 4 9 7 2 2 4 4 7 7 7 7\n",
            " 7 4 4 7 7 7 7 7 4 4 7 7 4 6 7 7 7 9 6 6 2 2 2 2 2 6 6 2 5 2 2 2 6 6 2 2 2\n",
            " 2 2 6 6 2 2 2 2 2 4 2 6 6 2 2 2 2 2 6 6 2 2 2 2 6 6 5 2 2 2 2 9 2 2 2 6 6\n",
            " 2 2 2 2 2 6 6 5 2 2 2 2 6 6 2 2 2 2 6 6 3 3 3 3 1 6 3 3 3 3 6 6 3 3 3 3 3\n",
            " 6 1 3 5 3 3 3 6 1 3 3 3 3 3 1 1 3 3 3 5 1 1 3 3 3 3 3 1 1 3 3 3 4 8 8 1 4\n",
            " 6 6 6 8]\n",
            "Silhouette Score: 0.21506167345844876\n",
            "Davies-Bouldin Score: 1.4150683146774594\n",
            "Calinski-Harabasz Score: 78.95519615286356\n",
            "total SCore 3.181459788480156\n",
            "\n",
            "Running clustering with: DBSCAN\n",
            "[-1  0  0 -1  1  0  1  1  0  0 -1 -1 -1 -1 -1  0  0  1 -1  1  1  1  0  0\n",
            " -1 -1 -1  1  0  0 -1 -1 -1 -1 -1  0  0  1  1  1 -1  1  0  0  1  1  1 -1\n",
            "  0  0  1 -1 -1 -1  0  0  1  1 -1  1 -1  0  0  1 -1  1 -1  1  0  0  1  1\n",
            "  1 -1  1  0  0  1 -1 -1 -1  1  0 -1 -1 -1  0  0  0 -1  1  1 -1  0  0 -1\n",
            "  1  1 -1  1  0  0  1 -1  1  1 -1  0  0 -1  1 -1 -1 -1  0  2  3  3  3 -1\n",
            " -1  2  2 -1 -1 -1 -1  4  2  2 -1 -1  2  2 -1  3  3  3 -1  2  2 -1 -1 -1\n",
            "  3 -1 -1  2  3  3 -1 -1 -1 -1  2 -1 -1  3  3 -1  2  2  3 -1 -1  3 -1 -1\n",
            "  2 -1 -1 -1 -1 -1  2 -1 -1 -1  4  2  2  4  4 -1  4  4  2  2  4 -1  4  4\n",
            "  4  2  2  4 -1  2  2  4 -1  4 -1  2  2 -1 -1 -1  4 -1 -1  2  3 -1 -1 -1\n",
            " -1  2 -1 -1  3 -1 -1 -1 -1  2  3  3  3 -1 -1 -1  3  2  2  3  3 -1  3 -1\n",
            "  2  2  3  3 -1 -1 -1  2 -1 -1  3 -1 -1 -1 -1 -1  3 -1 -1 -1 -1  3  3 -1\n",
            " -1 -1 -1  3  3 -1 -1  2 -1 -1 -1  3  3  2 -1 -1 -1 -1 -1 -1 -1 -1 -1 -1\n",
            " -1  0 -1 -1 -1 -1 -1 -1  0  0 -1 -1 -1 -1 -1  0 -1  5 -1 -1 -1 -1  0 -1\n",
            " -1 -1 -1 -1  0  0  5  5 -1 -1 -1  0  0 -1 -1 -1 -1 -1 -1  0 -1  2  2  2\n",
            " -1]\n",
            "Silhouette Score: -0.02772100330028316\n",
            "Davies-Bouldin Score: 2.3795720914163345\n",
            "Calinski-Harabasz Score: 35.327906331751436\n",
            "total SCore 1.185293120672037\n",
            "\n",
            "Running clustering with: GMM\n",
            "[8 8 8 0 7 8 0 0 8 8 0 0 0 0 0 8 8 0 0 5 5 5 2 8 0 0 3 0 8 8 0 3 0 0 0 8 8\n",
            " 0 0 0 0 0 2 2 0 0 5 5 2 2 5 5 5 0 2 2 5 5 0 5 0 2 2 5 0 0 0 5 2 2 5 5 5 5\n",
            " 5 2 2 5 5 0 5 5 2 5 5 2 8 2 8 0 5 5 5 2 2 5 5 5 5 5 2 2 5 5 5 5 5 2 2 5 5\n",
            " 5 5 5 2 7 1 1 1 1 1 7 7 1 1 1 3 6 7 7 1 1 7 7 1 1 1 1 1 7 7 1 1 1 1 1 3 7\n",
            " 1 1 1 1 1 3 7 1 1 1 1 6 3 7 1 1 1 1 3 8 7 1 6 1 6 6 3 9 6 1 6 3 3 6 6 6 6\n",
            " 6 3 3 6 6 6 6 6 3 3 6 6 3 7 6 6 6 9 7 7 6 6 6 1 6 3 7 1 1 1 1 1 7 7 1 1 1\n",
            " 1 1 7 7 1 1 1 1 1 7 1 7 7 1 1 1 1 1 7 7 1 1 1 1 7 7 1 1 1 1 1 9 1 1 1 7 7\n",
            " 1 1 1 1 1 3 7 1 1 1 1 6 7 7 1 1 1 1 7 2 4 4 4 4 2 2 4 4 4 4 7 2 4 4 4 4 4\n",
            " 7 2 4 4 4 4 4 2 2 4 4 4 4 4 2 2 4 4 4 0 2 2 4 4 4 4 4 2 2 4 4 4 3 8 8 8 3\n",
            " 7 7 7 8]\n",
            "Silhouette Score: 0.18064075979015703\n",
            "Davies-Bouldin Score: 1.604589673451553\n",
            "Calinski-Harabasz Score: 82.64588446781752\n",
            "total SCore 3.0026433131327432\n"
          ]
        }
      ]
    },
    {
      "cell_type": "markdown",
      "source": [
        "Internal evaluation"
      ],
      "metadata": {
        "id": "qKWY4dCAT71q"
      }
    },
    {
      "cell_type": "code",
      "source": [
        "# Calculate the Silhouette Score\n",
        "SC_score = silhouette_score(vectorized_day_dataset_no_nans, cluster_labels)\n",
        "# Silhouette Score measures the quality of clusters, higher values indicate better separation.\n",
        "\n",
        "# Calculate the Davies-Bouldin Score\n",
        "DB_score = davies_bouldin_score(vectorized_day_dataset_no_nans, cluster_labels)\n",
        "# Davies-Bouldin Score measures the average similarity between each cluster and its most similar cluster, lower values indicate better separation.\n",
        "\n",
        "# Calculate the Calinski-Harabasz Score\n",
        "CH_score = calinski_harabasz_score(vectorized_day_dataset_no_nans, cluster_labels)\n",
        "# Calinski-Harabasz Score measures the ratio of between-cluster variance to within-cluster variance, higher values indicate better separation.\n",
        "\n",
        "# Print the computed cluster quality scores\n",
        "print('Silhouette Score:', SC_score)\n",
        "print('Davies-Bouldin Score:', DB_score)\n",
        "print('Calinski-Harabasz Score:', CH_score)"
      ],
      "metadata": {
        "colab": {
          "base_uri": "https://localhost:8080/"
        },
        "id": "ckoogyuJT4co",
        "outputId": "6fd01a3e-669f-4e9d-abb6-a2bb9f9adb08"
      },
      "execution_count": 13,
      "outputs": [
        {
          "output_type": "stream",
          "name": "stdout",
          "text": [
            "Silhouette Score: 0.21506167345844876\n",
            "Davies-Bouldin Score: 1.4150683146774594\n",
            "Calinski-Harabasz Score: 78.95519615286356\n"
          ]
        }
      ]
    }
  ]
}